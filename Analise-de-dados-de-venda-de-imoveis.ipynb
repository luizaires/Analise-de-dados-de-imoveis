{
 "cells": [
  {
   "cell_type": "markdown",
   "id": "48286472",
   "metadata": {},
   "source": [
    "## Análise de dados de vendas de Imóveis"
   ]
  },
  {
   "cell_type": "markdown",
   "id": "4c7b22ee",
   "metadata": {},
   "source": [
    "### Carregando *packages*"
   ]
  },
  {
   "cell_type": "code",
   "execution_count": 107,
   "id": "b5f7af41",
   "metadata": {},
   "outputs": [],
   "source": [
    "import numpy as np\n",
    "import pandas as pd\n",
    "import matplotlib as mpl\n",
    "import matplotlib.pyplot as plt\n",
    "import matplotlib.colors as mpc\n",
    "import seaborn as sns"
   ]
  },
  {
   "cell_type": "markdown",
   "id": "2beaff7e",
   "metadata": {},
   "source": [
    "### Carregando base de dados"
   ]
  },
  {
   "cell_type": "code",
   "execution_count": 108,
   "id": "740130c8",
   "metadata": {
    "scrolled": false
   },
   "outputs": [
    {
     "data": {
      "text/html": [
       "<div>\n",
       "<style scoped>\n",
       "    .dataframe tbody tr th:only-of-type {\n",
       "        vertical-align: middle;\n",
       "    }\n",
       "\n",
       "    .dataframe tbody tr th {\n",
       "        vertical-align: top;\n",
       "    }\n",
       "\n",
       "    .dataframe thead th {\n",
       "        text-align: right;\n",
       "    }\n",
       "</style>\n",
       "<table border=\"1\" class=\"dataframe\">\n",
       "  <thead>\n",
       "    <tr style=\"text-align: right;\">\n",
       "      <th></th>\n",
       "      <th>Rua</th>\n",
       "      <th>Bairro</th>\n",
       "      <th>Cidade</th>\n",
       "      <th>Metragem</th>\n",
       "      <th>Quartos</th>\n",
       "      <th>Banheiros</th>\n",
       "      <th>Vagas</th>\n",
       "      <th>Valor</th>\n",
       "    </tr>\n",
       "  </thead>\n",
       "  <tbody>\n",
       "    <tr>\n",
       "      <th>0</th>\n",
       "      <td>Avenida Itacira, 255</td>\n",
       "      <td>Planalto Paulista</td>\n",
       "      <td>São Paulo</td>\n",
       "      <td>1000</td>\n",
       "      <td>4</td>\n",
       "      <td>8</td>\n",
       "      <td>6</td>\n",
       "      <td>R$ 7.000.000</td>\n",
       "    </tr>\n",
       "    <tr>\n",
       "      <th>1</th>\n",
       "      <td>Rua Aurelia Perez Alvarez, 42</td>\n",
       "      <td>Jardim dos Estados</td>\n",
       "      <td>São Paulo</td>\n",
       "      <td>496</td>\n",
       "      <td>4</td>\n",
       "      <td>4</td>\n",
       "      <td>4</td>\n",
       "      <td>R$ 3.700.000</td>\n",
       "    </tr>\n",
       "    <tr>\n",
       "      <th>2</th>\n",
       "      <td>Rua Alba Valdez</td>\n",
       "      <td>Jardim Reimberg</td>\n",
       "      <td>São Paulo</td>\n",
       "      <td>125</td>\n",
       "      <td>4</td>\n",
       "      <td>3</td>\n",
       "      <td>2</td>\n",
       "      <td>R$ 380.000</td>\n",
       "    </tr>\n",
       "    <tr>\n",
       "      <th>3</th>\n",
       "      <td>NaN</td>\n",
       "      <td>Jardim Morumbi</td>\n",
       "      <td>São Paulo</td>\n",
       "      <td>310</td>\n",
       "      <td>3</td>\n",
       "      <td>2</td>\n",
       "      <td>4</td>\n",
       "      <td>R$ 685.000</td>\n",
       "    </tr>\n",
       "    <tr>\n",
       "      <th>4</th>\n",
       "      <td>Rua Tobias Barreto, 195</td>\n",
       "      <td>Mooca</td>\n",
       "      <td>São Paulo</td>\n",
       "      <td>100</td>\n",
       "      <td>3</td>\n",
       "      <td>2</td>\n",
       "      <td>2</td>\n",
       "      <td>R$ 540.000</td>\n",
       "    </tr>\n",
       "  </tbody>\n",
       "</table>\n",
       "</div>"
      ],
      "text/plain": [
       "                              Rua              Bairro     Cidade  Metragem  \\\n",
       "0           Avenida Itacira, 255    Planalto Paulista  São Paulo      1000   \n",
       "1  Rua Aurelia Perez Alvarez, 42   Jardim dos Estados  São Paulo       496   \n",
       "2                 Rua Alba Valdez     Jardim Reimberg  São Paulo       125   \n",
       "3                             NaN      Jardim Morumbi  São Paulo       310   \n",
       "4        Rua Tobias Barreto, 195                Mooca  São Paulo       100   \n",
       "\n",
       "   Quartos  Banheiros  Vagas         Valor  \n",
       "0        4          8      6  R$ 7.000.000  \n",
       "1        4          4      4  R$ 3.700.000  \n",
       "2        4          3      2    R$ 380.000  \n",
       "3        3          2      4    R$ 685.000  \n",
       "4        3          2      2    R$ 540.000  "
      ]
     },
     "execution_count": 108,
     "metadata": {},
     "output_type": "execute_result"
    }
   ],
   "source": [
    "df = pd.read_csv(\"dados_imoveis.csv\")\n",
    "df.head()"
   ]
  },
  {
   "cell_type": "markdown",
   "id": "6cf90a05",
   "metadata": {},
   "source": [
    "### Explorando a base de dados"
   ]
  },
  {
   "cell_type": "code",
   "execution_count": 109,
   "id": "1bdafd25",
   "metadata": {},
   "outputs": [
    {
     "name": "stdout",
     "output_type": "stream",
     "text": [
      "(10008, 8)\n",
      "(9453, 8)\n"
     ]
    }
   ],
   "source": [
    "#Drop valores duplicados\n",
    "print(df.shape)\n",
    "df.drop_duplicates(inplace = True)\n",
    "print(df.shape)"
   ]
  },
  {
   "cell_type": "code",
   "execution_count": 110,
   "id": "fd9449f0",
   "metadata": {},
   "outputs": [
    {
     "name": "stdout",
     "output_type": "stream",
     "text": [
      "<class 'pandas.core.frame.DataFrame'>\n",
      "Int64Index: 9453 entries, 0 to 9971\n",
      "Data columns (total 8 columns):\n",
      " #   Column     Non-Null Count  Dtype \n",
      "---  ------     --------------  ----- \n",
      " 0   Rua        6207 non-null   object\n",
      " 1   Bairro     9443 non-null   object\n",
      " 2   Cidade     9453 non-null   object\n",
      " 3   Metragem   9453 non-null   int64 \n",
      " 4   Quartos    9453 non-null   int64 \n",
      " 5   Banheiros  9453 non-null   int64 \n",
      " 6   Vagas      9453 non-null   int64 \n",
      " 7   Valor      9453 non-null   object\n",
      "dtypes: int64(4), object(4)\n",
      "memory usage: 664.7+ KB\n"
     ]
    }
   ],
   "source": [
    "#Data types de cada variável\n",
    "df.info()"
   ]
  },
  {
   "cell_type": "code",
   "execution_count": 111,
   "id": "fc82b8da",
   "metadata": {},
   "outputs": [
    {
     "data": {
      "text/plain": [
       "Rua          3130\n",
       "Bairro        701\n",
       "Cidade          1\n",
       "Metragem      916\n",
       "Quartos        15\n",
       "Banheiros      15\n",
       "Vagas          28\n",
       "Valor        1041\n",
       "dtype: int64"
      ]
     },
     "execution_count": 111,
     "metadata": {},
     "output_type": "execute_result"
    }
   ],
   "source": [
    "#Número de valores únicos de cada variável\n",
    "df.nunique()"
   ]
  },
  {
   "cell_type": "markdown",
   "id": "7dca511c",
   "metadata": {},
   "source": [
    "### Tratamento de missings-Bairros sem nome de Rua"
   ]
  },
  {
   "cell_type": "code",
   "execution_count": 112,
   "id": "68dc4483",
   "metadata": {
    "scrolled": true
   },
   "outputs": [
    {
     "data": {
      "text/plain": [
       "Rua          3246\n",
       "Bairro         10\n",
       "Cidade          0\n",
       "Metragem        0\n",
       "Quartos         0\n",
       "Banheiros       0\n",
       "Vagas           0\n",
       "Valor           0\n",
       "dtype: int64"
      ]
     },
     "execution_count": 112,
     "metadata": {},
     "output_type": "execute_result"
    }
   ],
   "source": [
    "#Verificando missings\n",
    "df.isna().sum()"
   ]
  },
  {
   "cell_type": "code",
   "execution_count": 113,
   "id": "5ffb5cfa",
   "metadata": {
    "scrolled": true
   },
   "outputs": [
    {
     "data": {
      "text/plain": [
       "array(['Planalto Paulista', 'Jardim dos Estados', 'Jardim Reimberg',\n",
       "       'Jardim Morumbi', 'Mooca', 'Santo Amaro', 'Cidade Mãe do Céu',\n",
       "       'Jardim Vergueiro', 'Jardim Benfica', 'Vila Alpina',\n",
       "       'Vila Monumento', 'Jardim Luzitânia', 'Vila Uberabinha',\n",
       "       'Jardim Prudência', 'Lauzane Paulista', 'Jardim Santa Maria',\n",
       "       'Vila Nova', 'Itaberaba', 'Vila Nova Conceição', 'Jardim da Saúde',\n",
       "       'Jardim Santo Antônio', 'Vila Mazzei', 'Vila Madalena',\n",
       "       'Jardim Ivana', 'Vila Campo Grande', 'Vila Gomes Cardim',\n",
       "       'Bela Aliança', 'Vila Albertina', 'Cidade Jardim',\n",
       "       'Parque da Lapa', 'Vila Libanesa', 'Cidade Domitila',\n",
       "       'Vila Nova Savoia', 'Jardim Maria Estela', 'Parque São Rafael',\n",
       "       'Vila Bandeirantes', 'Parque Colonial', 'Vila Califórnia',\n",
       "       'Jardim das Imbuias', 'Vila Tramontano', 'Vila Nancy',\n",
       "       'Parada Inglesa', 'Jardim Leonor Mendes de Barros', 'Jardim Iva',\n",
       "       'Jardim Amália', 'Vila dos Remédios', 'Brooklin Paulista',\n",
       "       'Tremembé', 'Vila Minerva', 'Pirituba', 'Vila Cordeiro',\n",
       "       'Chácara Santo Antônio (Zona Sul)', 'Jardim Guedala',\n",
       "       'Parque Boturussu', 'Vila Arriete', 'Jardim Europa',\n",
       "       'Alto da Lapa', 'Vila Formosa', 'Quinta da Paineira',\n",
       "       'Vila Jaguara', 'Alto da Boa Vista', 'Vila Clarice',\n",
       "       'Jardim América', 'Jardim Paulista', 'Tucuruvi',\n",
       "       'Parque Continental', 'Penha de França', 'Perdizes',\n",
       "       'Conjunto Residencial José Bonifácio', 'Cidade Vargas',\n",
       "       'Jardim Maria Luiza', 'Mirandópolis', 'Jardim do Carmo',\n",
       "       'Jardim Leonor', 'Alto de Pinheiros', 'Vila Suzana',\n",
       "       'Vila Brasílio Machado', 'Jardim das Vertentes', 'Campo Belo',\n",
       "       'Vila Regente Feijó', 'Vila Tolstoi',\n",
       "       'Terceira Divisão de Interlagos', 'Vila Moinho Velho',\n",
       "       'Vila Mariana', 'Jardim Imperador (Zona Leste)', 'Vila Aricanduva',\n",
       "       'Sumaré', 'Boaçava', 'Vila Gustavo', 'Vila Carolina',\n",
       "       'Vila Romana', 'Vila Leopoldina', 'Vila São Paulo',\n",
       "       'Jardim Bandeirantes (Zona Norte)', 'Jardim Jaraguá', 'Vila Morse',\n",
       "       'Itaquera', 'Vila Talarico', 'Vila Matilde', 'Vila Laís',\n",
       "       'Jardim Marajoara', 'Vila Pompéia', 'Jardim Trussardi', 'Caxingui',\n",
       "       'Barra Funda', 'Vila Santos', 'Vila João Batista',\n",
       "       'Jardim Nova Germania', 'Vila Antonieta', 'Bosque da Saúde',\n",
       "       'Chácara Santo Antônio (Zona Leste)', 'Butantã',\n",
       "       'Jardim Paulistano', 'Jardim da Glória', 'Jardim Petrópolis',\n",
       "       'Vila Aparecida', 'Siciliano', 'Tatuapé', 'Jardim Cordeiro',\n",
       "       'Parque Casa de Pedra', 'Morumbi', 'Praia Azul',\n",
       "       'São João Clímaco', 'Lapa', 'Vila Prudente', 'Capela do Socorro',\n",
       "       'Parque Santa Madalena', 'Vila Ida', 'Jardim Vivan', 'Vila Marari',\n",
       "       'Jardim Aurélia', 'Cursino', 'Cidade Dutra', 'Jardim São Luís',\n",
       "       'Água Fria', 'Belenzinho', 'Vila Ipojuca', 'Vila Sônia',\n",
       "       'Jardim Panorama', 'Jardim Ampliação', 'Cerqueira César', 'Pari',\n",
       "       'Vila Sabrina', 'Ipiranga', 'Vila Olímpia',\n",
       "       'Jardim Sílvia (Zona Oeste)', 'Jardim Franca', 'Vila Dom Pedro I',\n",
       "       'Vila Euthalia', 'Santana', 'Barro Branco (Zona Norte)',\n",
       "       'Vila Corberi', 'São Judas', 'Interlagos', 'Vila Carrão',\n",
       "       'Morro dos Ingleses', 'Chácara Inglesa', 'Parque Savoy City',\n",
       "       'Pacaembu', 'Aclimação', 'Nossa Senhora do Ó',\n",
       "       'Jardim Três Marias', 'Campininha', 'Cidade Monções',\n",
       "       'Vila Santa Maria', 'Jardim Santo Amaro', 'Vila Bela',\n",
       "       'Vila Guarani (Z Sul)', 'Vila das Belezas',\n",
       "       'Jardim Brasil (Zona Norte)', 'Vila Moraes',\n",
       "       'Jardim Alvorada (Zona Oeste)', 'Jardim Londrina', 'Vila Zelina',\n",
       "       'Vila Guilherme', 'Parque da Vila Prudente',\n",
       "       'Parque Alves de Lima', 'Chácara Flora', 'Jardim Camargo Novo',\n",
       "       'Jardim Vila Formosa', 'Jardim Planalto', 'Jardim Patente Novo',\n",
       "       'Vila Água Funda', 'Jardim das Camélias', 'Jardim Virginia Bianca',\n",
       "       'Água Branca', \"Jardim D'Abril\", 'Jardim São Paulo(Zona Norte)',\n",
       "       'Vila Rosaria', 'Jardim Ana Maria', 'Jardim Viana', 'Indianópolis',\n",
       "       'Granja Julieta', 'Jardim Célia (Zona Sul)', 'Parque Maria Helena',\n",
       "       'Parque Guarani', 'Jardim Vista Linda', 'Vila Inah',\n",
       "       'Vila Brasilina', 'Cambuci', 'Vila Congonhas', 'Cidade Patriarca',\n",
       "       'Vila Pirituba', 'Vila Fachini', 'Vila Ema', 'Veleiros',\n",
       "       'Vila Antônio dos Santos', 'Itaim Bibi',\n",
       "       'Conjunto Residencial Vista Verde', 'Parque das Paineiras',\n",
       "       'Vila Dom Pedro II', 'Vila Gumercindo', 'Vila Bancária Munhoz',\n",
       "       'Moema', 'Cidade Líder', 'Parque São Domingos', 'Vila Santa Clara',\n",
       "       'Vila Carioca', 'Jardim Consórcio', 'Vila Hebe', 'Quarta Parada',\n",
       "       'Vila São José (Ipiranga)', 'Jardim Anália Franco', 'Saúde',\n",
       "       'Jardim das Bandeiras', 'Sumarezinho', 'Jardim Santo Elias',\n",
       "       'Vila Moreira', 'Vila Morumbi', 'Jardim Vila Carrão', 'Casa Verde',\n",
       "       'Chácara Japonesa', 'Jardim Bonfiglioli', 'City América',\n",
       "       'Pinheiros', 'Parque Fernanda', 'Fazenda Morumbi', 'Parque Munhoz',\n",
       "       'Vila Antônio', 'Jardim Novo Mundo', 'Higienópolis',\n",
       "       'Vila Bertioga', 'Jardim Everest', 'Retiro Morumbi',\n",
       "       'Paineiras do Morumbi', 'Vila Londrina', \"Jardim Panorama D'Oeste\",\n",
       "       'Cidade São Mateus', 'Paraíso', 'Vila Progredior',\n",
       "       'Jardim Casablanca', 'Chácara Belenzinho', 'Jardim Peri Peri',\n",
       "       'Vila Cláudia', 'Vila Butantã', 'Jardim Vila Mariana',\n",
       "       'Jardim Peri', 'Parque CíSão Pauloer', 'Parque Ipê',\n",
       "       'Vila Alexandria', 'Consolação', 'Brooklin Novo',\n",
       "       'Chácara Monte Alegre', 'Real Parque', 'Mandaqui',\n",
       "       'Jardim São Bento', 'Super Quadra Morumbi', 'Vila Sílvia',\n",
       "       'Parque Jabaquara', 'Jabaquara', 'Jardim Nossa Senhora do Carmo',\n",
       "       'Pompeia', 'Jardim Celeste', 'Vila Santa Catarina',\n",
       "       'Vila Comercial', 'Água Rasa', 'Carandiru', 'Vila Mascote',\n",
       "       'Vila Gea', 'Vila Pirajussara', 'Vila Oratório',\n",
       "       'Jardim das Laranjeiras', 'Vila Lageado', 'Jardim Colombo',\n",
       "       'Vila Perus', 'Jardim Satélite', 'Vila Isolina Mazzei',\n",
       "       'Cidade São Francisco', 'Parque Mandaqui', 'Jardim Tremembé',\n",
       "       'Vila Nivi', 'Vila Canero', 'Vila Buenos Aires', 'Lapa de Baixo',\n",
       "       'Jardim Tietê', 'Vila Araguaia', 'Vila Lúcia',\n",
       "       'Jardim Brasil (Zona Sul)', 'Jardim Vitória Régia',\n",
       "       'Praia da Lagoa', 'Vila Nova Mazzei', 'Canindé', 'Vila Tiradentes',\n",
       "       'Vila São Francisco', 'Lar São Paulo', 'Vila Palmeiras',\n",
       "       'Chácara Califórnia', 'Vila Maria Alta',\n",
       "       'Instituto de Previdência', 'Jardim Aeroporto',\n",
       "       'Vila Anglo Brasileira', 'Vila Andrade', 'Horto Florestal',\n",
       "       'Vila Amélia', 'Parque da Mooca', 'Vila Hamburguesa',\n",
       "       'Jardim Umuarama', 'Santa Cecília', 'Vila Ré', 'Brooklin',\n",
       "       'Jardins', 'Vila Vera', 'Jardim Monte Kemel', 'Jardim Monte Azul',\n",
       "       'Vila Isa', 'Vila Cruzeiro', 'Vila Anastácio',\n",
       "       'São Miguel Paulista', 'Jurubatuba', 'Vila Salete', 'Chora Menino',\n",
       "       'Vila Nova Alba', 'Vila Nova Caledonia', 'Vila Nova Cachoeirinha',\n",
       "       'Vila Constança', 'Vila Carbone', 'Alto da Mooca', 'Vila Adalgisa',\n",
       "       'Vila São Geraldo', 'Vila ESão Pauloerança', 'Jardim Ester',\n",
       "       'Vila Ester (Zona Norte)', 'Jardim das Acácias', 'Jardim Patente',\n",
       "       'Parque dos Príncipes', 'Vila São Silvestre',\n",
       "       'Vila Diva (Zona Leste)', 'Chácara Tatuapé', 'Santa Teresinha',\n",
       "       'Jardim Vera Cruz', 'Vila Clementino',\n",
       "       'Conjunto Habitacional Barreira Grande', 'Vila do Encontro',\n",
       "       'Jardim Dracena', 'Vila das Mercês', 'Casa Verde Alta',\n",
       "       'Jardim dos Cataldis', 'Vila Deodoro', 'Jardim Maracanã',\n",
       "       'Jardim Maringá', 'Parque Residencial Oratorio',\n",
       "       'Conjunto Residencial Jardim Canaã',\n",
       "       'Jardim Santa Cruz (Campo Grande)', 'Vila da Saúde',\n",
       "       'Jardim Triana', 'Vila Liviero', 'Vila Medeiros', 'Jardim Penha',\n",
       "       'Jardim Vaz de Lima', 'Jardim Textil', 'Paraíso do Morumbi',\n",
       "       'Jardim Hípico', 'Vila Firmiano Pinto',\n",
       "       'Jardim Ipanema (Zona Sul)', 'Vila Fernandes', 'Cidade Centenário',\n",
       "       'Jaguaré', 'Jardim Odete', 'Jardim Miriam', 'Vila Santo Estéfano',\n",
       "       'Vila Rica', 'Jardim Petropolis', 'Vila Caraguatá', 'Vila Jacuí',\n",
       "       'Vila Califórnia(Zona Sul)', 'Sacomã', 'Vila Mafra', 'Vila Carrao',\n",
       "       'Parque Vitória', 'Vila Invernada', 'Vila Clara',\n",
       "       'Vila Anhangüera', 'Jardim Caravelas', 'Cupecê', 'Jardim Rizzo',\n",
       "       'Vila Império', 'Vila Nelson', 'Parque Santa Cecília',\n",
       "       'Jardim Olympia', 'Vila Inglesa', 'Vila Macedópolis',\n",
       "       'Vila Nova Curuçá', 'Vila Paiva', 'Jardim Analia Franco',\n",
       "       'Vila Prado', 'Liberdade', 'Jardim Maria Duarte', 'Parque Sevilha',\n",
       "       'Jardim Santa Helena', 'Vila Sonia', 'Vila Marieta',\n",
       "       'Conjunto Residencial Bandeirantes', 'Jardim Eliana', 'Vila Gomes',\n",
       "       'Conjunto Residencial Butantã', 'Paraisópolis', 'Jardim Teresa',\n",
       "       'Jardim Brasília (Zona Leste)', 'Jardim Danfer',\n",
       "       'Parque Ramos Freitas', 'Bom Retiro', 'Vila Rio Branco',\n",
       "       'Chácara das Paineiras', 'Vila Pedroso', 'Vila Universitária',\n",
       "       'Jardim Campo Grande', 'Brás', 'Chácara Meyer', 'Vila Paulicéia',\n",
       "       'Rio Pequeno', 'Vila Nair', 'Jardim Taboão', 'Capão Redondo',\n",
       "       'Jardim Panorama (Zona Leste)', 'Vila Santana', 'Vila Guilhermina',\n",
       "       'Vila Aurora (Zona Norte)', 'Vila Carlos de Campos',\n",
       "       'Vila Castelo', 'Campo Grande', 'Parque Novo Mundo',\n",
       "       'Jardim Cidália', 'Vila Cardoso Franco', 'Jardim Oriental',\n",
       "       'Jardim Taboao', 'Guaianases', 'Jardim Catanduva',\n",
       "       'Jardim Colorado', 'Jardim Esmeralda', 'Vila São José',\n",
       "       'Vila Maria Baixa', 'Vila Baby', 'Jardim Tenani', 'Jardim Gonzaga',\n",
       "       'Vila Campestre', 'Parque Fongaro', 'Chácara Mafalda',\n",
       "       'Vila São Francisco (Zona Sul)', 'Imirim', 'Parque São Lucas',\n",
       "       'Vila Santa Teresa (Zona Leste)', 'Jardim Floresta',\n",
       "       'Sítio da Figueira', 'Chácara Jaraguá', 'Vila Nova Caledônia',\n",
       "       'Vila Ivg', 'Vila América', 'Vila Analia', 'Parque Santa Rita',\n",
       "       'Vila Rui Barbosa', 'Campos Elíseos', 'Jardim de Lorenzo',\n",
       "       'Parque Edu Chaves', 'Conjunto Promorar Raposo Tavares',\n",
       "       'Jardim Germânia', 'Vila Dalila', 'Vila Primavera', 'Brasilândia',\n",
       "       'Vila Antonina', 'Socorro', 'Vila Celeste', 'Jardim Nove de Julho',\n",
       "       'Jardim Ernestina', 'Vila Noca', 'Jardim Cidade Pirituba',\n",
       "       'Vila Santa Virginia', 'Vila do Bosque', 'Jardim Itapeva',\n",
       "       'Parada XV de Novembro', 'Vila Nhocune', 'Jardim Bélgica',\n",
       "       'Jardim Jussara', 'Jardim Vergueiro (Sacomã)', 'Vila Guedes',\n",
       "       'Jardim São Carlos (Zona Sul)', 'Vila Santa Edwiges', 'Rio Bonito',\n",
       "       'Jardim Vera Cruz(Zona Leste)', 'Vila Almeida',\n",
       "       'Chácara Seis de Outubro', 'Vila Polopoli', 'Vila Virginia',\n",
       "       'Vila Boaçava', 'Vila do Castelo', 'Jardim Rosa Maria',\n",
       "       'Jardim Santa Adélia', 'Vila Nova Manchester', 'Vila Agueda',\n",
       "       'Jardim Monte Alegre', 'Jardim Avelino', 'Vila Indiana',\n",
       "       'Jardim Jabaquara', 'Jardim Morro Verde', 'Jardim Modelo',\n",
       "       'Ibirapuera', 'Jardim Paraíso', 'Balneário Mar Paulista',\n",
       "       'Jardim Ponte Rasa', 'Jardim Marília', 'Jardim Raposo Tavares',\n",
       "       'Jardim Niteroi', 'Vila Irmãos Arnoni', 'Vila Parque Jabaquara',\n",
       "       'Vila Paulo Silas', 'Jardim Castelo', 'Vila Barbosa',\n",
       "       'Parque Imperial', 'Vila Represa', 'Jaraguá', 'Vila Mira',\n",
       "       'Jardim Coimbra', 'Sítio do Mandaqui', 'Sítio Represa', 'Ferreira',\n",
       "       'Jardim Vitoria Regia', 'Cidade Ademar', 'Nova Piraju',\n",
       "       'Vila Paulista', 'Rolinópolis', 'Vila Picinin',\n",
       "       'Parque Nações Unidas', 'Jardim Maria Augusta', 'Vila Sofia',\n",
       "       'Jardim São Jorge', 'Parque do Castelo',\n",
       "       'Jardim do Colégio (Zona Norte)', 'Parque Peruche', 'Jardim Carlu',\n",
       "       'São Lucas', 'Burgo Paulista', 'Maranhão', 'Jardim Mangalot',\n",
       "       'Jardim Japão', 'Praia Paulistinha', 'Catumbi', 'Vila Cleonice',\n",
       "       'Piqueri', 'Jardim dos Pinheiros', 'Jardim Popular',\n",
       "       'Vila Pereira Barreto', 'Vila Sao Paulo', 'Vila Monte Alegre',\n",
       "       'Jardim Heliomar', 'Jardim Botucatu', 'Vila Curuçá', 'Vila Jurema',\n",
       "       'Vila Independência', nan, 'Água Funda', 'Vila Romero',\n",
       "       'Vila São Vicente', 'Jardim Riviera', 'Jardim Aricanduva',\n",
       "       'Vila Campanela', 'Vila Romano', 'Vila Simone', 'Jardim Guairaca',\n",
       "       'Jardim Sarah', 'Parque Maria Fernandes', 'Vila Piauí',\n",
       "       'Jardim Anhanguera', 'Vila Bela Aliança', 'Jardim Promissão',\n",
       "       'Vila Industrial', 'Vila Cunha Bueno', 'Vila São Domingos',\n",
       "       'Vila Domitila', 'Educandário', 'Vila Neila', 'Bortolândia',\n",
       "       'Vila Paranaguá', 'Vila Ayrosa', 'Jardim Cláudia',\n",
       "       'Jardim Dom Bosco', 'Jardim Ubirajara', 'Jardim dos Prados',\n",
       "       'Jardim Ester Yolanda', 'Jardim Cristal', 'Vila Olinda',\n",
       "       'Parque Regina', 'Jardim Primavera (Zona Sul)', 'Vila Roseira II',\n",
       "       'Jardim Santa Fé (Zona Sul)', 'Vila Elvira', 'Jardim Guarau',\n",
       "       'Jardim da Pedreira', 'Jardim Luanda', 'Jardim Ibitirama',\n",
       "       'Jardim São Carlos (Zona Leste)', 'Vila Carmosina',\n",
       "       'Vila Santa Teresa (Zona Sul)', 'Vila Duarte', 'Vila Aurea',\n",
       "       'Vila Emir', 'Jardim Leila', 'Conjunto Residencial Morada do Sol',\n",
       "       'Recanto dos Sonhos', 'Jardim Tremembe', 'Jardim Guapira',\n",
       "       'Vila Vasconcelos', 'Parque do Terceiro Lago',\n",
       "       'Jardim Boa Vista (Zona Oeste)', 'Jardim Sul São Paulo',\n",
       "       'Vila Dorna', 'Engenheiro Goulart',\n",
       "       'Vila Santa Terezinha (Zona Norte)', 'Vila Leonor',\n",
       "       'Jardim Rincão', 'Jardim Sabará', 'Jardim Colonial', 'Aricanduva',\n",
       "       'Jardim Palmares (Zona Sul)', 'Vila Darli', 'Jardim Nice',\n",
       "       'Jardim Fernandes', 'Vila Constancia', 'Jardim Itapemirim',\n",
       "       'Jardim Pirituba', 'Jardim Felicidade (Zona Oeste)',\n",
       "       'Jardim Arize', 'Parque Maria Domitila', 'Jardim São José',\n",
       "       'Vila Joaniza', 'Parque Santo Antônio (Aricanduva)',\n",
       "       'Jardim Cidalia', 'Vila Dalva', 'Jardim Santa Cruz (Sacomã)',\n",
       "       'Vila Gertrudes', 'Vila Pita', 'Jardim Parque Morumbi',\n",
       "       'Jardim Cambara', 'Conjunto Habitacional Castro Alves',\n",
       "       'Vila Natália', 'Parque Residencial Julia', 'Vila Ivone',\n",
       "       'Vila Babilônia', 'Jardim Egle', 'Jardim Guarapiranga',\n",
       "       'Jardim Pinheiros', 'Jardim Record', 'Bela Vista',\n",
       "       'Vila Conde do Pinhal', 'Guaianazes', 'Jardim Rio Pequeno',\n",
       "       'Parque Monteiro Soares', 'Jardim Ipanema (Zona Oeste)',\n",
       "       'Jardim Cotiana', 'Jardim Avenida', 'Jardim São Nicolau',\n",
       "       'Jardim Morais Prado', 'Vila Santo Estevão', 'Vila Rosa',\n",
       "       'Vila Vitório Mazzei', 'Jardim do Campo', 'Jardim Independência',\n",
       "       'Vila Nilo', 'Vila Nova Pauliceia', 'Limoeiro',\n",
       "       'Jardim São Jorge (Raposo Tavares)', 'Vila Fiat Lux',\n",
       "       'Jardim Íris', 'Vila Santo Antônio', 'Jardim Domitila',\n",
       "       'Vila Bonilha Nova', 'Jardim Umarizal',\n",
       "       'Cidade Antônio Estevão de Carvalho', 'Jardim Catarina',\n",
       "       'Jardim Taquaral', 'Vila Ponte Rasa', 'Jardim Jaú (Zona Leste)',\n",
       "       'Jardim Guanca', 'Jardim Lourdes', 'Vila Pedra Branca',\n",
       "       'Vila Guaca', 'Cidade dos Bandeirantes', 'Vila União(Zona Norte)',\n",
       "       'Jardim Itacolomi', 'Parque São Jorge', 'Vila Reis',\n",
       "       'Parque das Árvores', 'Vila São Pedro', 'Jardim das Carmelitas'],\n",
       "      dtype=object)"
      ]
     },
     "execution_count": 113,
     "metadata": {},
     "output_type": "execute_result"
    }
   ],
   "source": [
    "#Explorando nome dos Bairros\n",
    "df['Bairro'].unique()"
   ]
  },
  {
   "cell_type": "markdown",
   "id": "afbf6fdf",
   "metadata": {},
   "source": [
    "Aguns nomes de bairros aparecem como valores únicos, pois possuem suas zona especificadas, vamos remover as zonas desses bairros"
   ]
  },
  {
   "cell_type": "code",
   "execution_count": 114,
   "id": "605a84a1",
   "metadata": {},
   "outputs": [
    {
     "data": {
      "text/html": [
       "<div>\n",
       "<style scoped>\n",
       "    .dataframe tbody tr th:only-of-type {\n",
       "        vertical-align: middle;\n",
       "    }\n",
       "\n",
       "    .dataframe tbody tr th {\n",
       "        vertical-align: top;\n",
       "    }\n",
       "\n",
       "    .dataframe thead th {\n",
       "        text-align: right;\n",
       "    }\n",
       "</style>\n",
       "<table border=\"1\" class=\"dataframe\">\n",
       "  <thead>\n",
       "    <tr style=\"text-align: right;\">\n",
       "      <th></th>\n",
       "      <th>Rua</th>\n",
       "      <th>Bairro</th>\n",
       "      <th>Cidade</th>\n",
       "      <th>Metragem</th>\n",
       "      <th>Quartos</th>\n",
       "      <th>Banheiros</th>\n",
       "      <th>Vagas</th>\n",
       "      <th>Valor</th>\n",
       "    </tr>\n",
       "  </thead>\n",
       "  <tbody>\n",
       "    <tr>\n",
       "      <th>0</th>\n",
       "      <td>Avenida Itacira, 255</td>\n",
       "      <td>Planalto Paulista</td>\n",
       "      <td>São Paulo</td>\n",
       "      <td>1000</td>\n",
       "      <td>4</td>\n",
       "      <td>8</td>\n",
       "      <td>6</td>\n",
       "      <td>R$ 7.000.000</td>\n",
       "    </tr>\n",
       "    <tr>\n",
       "      <th>1</th>\n",
       "      <td>Rua Aurelia Perez Alvarez, 42</td>\n",
       "      <td>Jardim dos Estados</td>\n",
       "      <td>São Paulo</td>\n",
       "      <td>496</td>\n",
       "      <td>4</td>\n",
       "      <td>4</td>\n",
       "      <td>4</td>\n",
       "      <td>R$ 3.700.000</td>\n",
       "    </tr>\n",
       "    <tr>\n",
       "      <th>2</th>\n",
       "      <td>Rua Alba Valdez</td>\n",
       "      <td>Jardim Reimberg</td>\n",
       "      <td>São Paulo</td>\n",
       "      <td>125</td>\n",
       "      <td>4</td>\n",
       "      <td>3</td>\n",
       "      <td>2</td>\n",
       "      <td>R$ 380.000</td>\n",
       "    </tr>\n",
       "    <tr>\n",
       "      <th>3</th>\n",
       "      <td>NaN</td>\n",
       "      <td>Jardim Morumbi</td>\n",
       "      <td>São Paulo</td>\n",
       "      <td>310</td>\n",
       "      <td>3</td>\n",
       "      <td>2</td>\n",
       "      <td>4</td>\n",
       "      <td>R$ 685.000</td>\n",
       "    </tr>\n",
       "    <tr>\n",
       "      <th>4</th>\n",
       "      <td>Rua Tobias Barreto, 195</td>\n",
       "      <td>Mooca</td>\n",
       "      <td>São Paulo</td>\n",
       "      <td>100</td>\n",
       "      <td>3</td>\n",
       "      <td>2</td>\n",
       "      <td>2</td>\n",
       "      <td>R$ 540.000</td>\n",
       "    </tr>\n",
       "  </tbody>\n",
       "</table>\n",
       "</div>"
      ],
      "text/plain": [
       "                              Rua              Bairro     Cidade  Metragem  \\\n",
       "0           Avenida Itacira, 255    Planalto Paulista  São Paulo      1000   \n",
       "1  Rua Aurelia Perez Alvarez, 42   Jardim dos Estados  São Paulo       496   \n",
       "2                 Rua Alba Valdez     Jardim Reimberg  São Paulo       125   \n",
       "3                             NaN      Jardim Morumbi  São Paulo       310   \n",
       "4        Rua Tobias Barreto, 195                Mooca  São Paulo       100   \n",
       "\n",
       "   Quartos  Banheiros  Vagas         Valor  \n",
       "0        4          8      6  R$ 7.000.000  \n",
       "1        4          4      4  R$ 3.700.000  \n",
       "2        4          3      2    R$ 380.000  \n",
       "3        3          2      4    R$ 685.000  \n",
       "4        3          2      2    R$ 540.000  "
      ]
     },
     "execution_count": 114,
     "metadata": {},
     "output_type": "execute_result"
    }
   ],
   "source": [
    "df['Bairro'] = df['Bairro'].str.split('(', 0, expand = True)\n",
    "df.head()"
   ]
  },
  {
   "cell_type": "code",
   "execution_count": 115,
   "id": "3297ebe9",
   "metadata": {
    "scrolled": true
   },
   "outputs": [
    {
     "data": {
      "text/plain": [
       "693"
      ]
     },
     "execution_count": 115,
     "metadata": {},
     "output_type": "execute_result"
    }
   ],
   "source": [
    "#Número de Bairros únicos\n",
    "df['Bairro'].nunique()"
   ]
  },
  {
   "cell_type": "code",
   "execution_count": 116,
   "id": "ab31f3a8",
   "metadata": {},
   "outputs": [
    {
     "data": {
      "text/plain": [
       "393"
      ]
     },
     "execution_count": 116,
     "metadata": {},
     "output_type": "execute_result"
    }
   ],
   "source": [
    "#Número de Bairros que não possuem nome de ruas\n",
    "df.loc[df.Rua.isna(), 'Bairro'].nunique()"
   ]
  },
  {
   "cell_type": "code",
   "execution_count": 117,
   "id": "6b14112b",
   "metadata": {},
   "outputs": [
    {
     "data": {
      "text/plain": [
       "Rua           0\n",
       "Bairro       10\n",
       "Cidade        0\n",
       "Metragem      0\n",
       "Quartos       0\n",
       "Banheiros     0\n",
       "Vagas         0\n",
       "Valor         0\n",
       "dtype: int64"
      ]
     },
     "execution_count": 117,
     "metadata": {},
     "output_type": "execute_result"
    }
   ],
   "source": [
    "#Preenchendo missing da variável 'Rua'\n",
    "df = df.fillna({'Rua': 'Rua Sem denominação'})\n",
    "df.isna().sum()"
   ]
  },
  {
   "cell_type": "markdown",
   "id": "e9858b6c",
   "metadata": {},
   "source": [
    "### Tratando missing-Descobrindo as rua sem nome de bairros"
   ]
  },
  {
   "cell_type": "code",
   "execution_count": 118,
   "id": "063c6871",
   "metadata": {
    "scrolled": true
   },
   "outputs": [
    {
     "data": {
      "text/html": [
       "<div>\n",
       "<style scoped>\n",
       "    .dataframe tbody tr th:only-of-type {\n",
       "        vertical-align: middle;\n",
       "    }\n",
       "\n",
       "    .dataframe tbody tr th {\n",
       "        vertical-align: top;\n",
       "    }\n",
       "\n",
       "    .dataframe thead th {\n",
       "        text-align: right;\n",
       "    }\n",
       "</style>\n",
       "<table border=\"1\" class=\"dataframe\">\n",
       "  <thead>\n",
       "    <tr style=\"text-align: right;\">\n",
       "      <th></th>\n",
       "      <th>Rua</th>\n",
       "      <th>Bairro</th>\n",
       "      <th>Cidade</th>\n",
       "      <th>Metragem</th>\n",
       "      <th>Quartos</th>\n",
       "      <th>Banheiros</th>\n",
       "      <th>Vagas</th>\n",
       "      <th>Valor</th>\n",
       "      <th>Logradouro</th>\n",
       "      <th>Numero</th>\n",
       "    </tr>\n",
       "  </thead>\n",
       "  <tbody>\n",
       "    <tr>\n",
       "      <th>0</th>\n",
       "      <td>Avenida Itacira, 255</td>\n",
       "      <td>Planalto Paulista</td>\n",
       "      <td>São Paulo</td>\n",
       "      <td>1000</td>\n",
       "      <td>4</td>\n",
       "      <td>8</td>\n",
       "      <td>6</td>\n",
       "      <td>R$ 7.000.000</td>\n",
       "      <td>Avenida Itacira</td>\n",
       "      <td>255</td>\n",
       "    </tr>\n",
       "    <tr>\n",
       "      <th>1</th>\n",
       "      <td>Rua Aurelia Perez Alvarez, 42</td>\n",
       "      <td>Jardim dos Estados</td>\n",
       "      <td>São Paulo</td>\n",
       "      <td>496</td>\n",
       "      <td>4</td>\n",
       "      <td>4</td>\n",
       "      <td>4</td>\n",
       "      <td>R$ 3.700.000</td>\n",
       "      <td>Rua Aurelia Perez Alvarez</td>\n",
       "      <td>42</td>\n",
       "    </tr>\n",
       "    <tr>\n",
       "      <th>2</th>\n",
       "      <td>Rua Alba Valdez</td>\n",
       "      <td>Jardim Reimberg</td>\n",
       "      <td>São Paulo</td>\n",
       "      <td>125</td>\n",
       "      <td>4</td>\n",
       "      <td>3</td>\n",
       "      <td>2</td>\n",
       "      <td>R$ 380.000</td>\n",
       "      <td>Rua Alba Valdez</td>\n",
       "      <td>None</td>\n",
       "    </tr>\n",
       "    <tr>\n",
       "      <th>3</th>\n",
       "      <td>Rua Sem denominação</td>\n",
       "      <td>Jardim Morumbi</td>\n",
       "      <td>São Paulo</td>\n",
       "      <td>310</td>\n",
       "      <td>3</td>\n",
       "      <td>2</td>\n",
       "      <td>4</td>\n",
       "      <td>R$ 685.000</td>\n",
       "      <td>Rua Sem denominação</td>\n",
       "      <td>None</td>\n",
       "    </tr>\n",
       "    <tr>\n",
       "      <th>4</th>\n",
       "      <td>Rua Tobias Barreto, 195</td>\n",
       "      <td>Mooca</td>\n",
       "      <td>São Paulo</td>\n",
       "      <td>100</td>\n",
       "      <td>3</td>\n",
       "      <td>2</td>\n",
       "      <td>2</td>\n",
       "      <td>R$ 540.000</td>\n",
       "      <td>Rua Tobias Barreto</td>\n",
       "      <td>195</td>\n",
       "    </tr>\n",
       "  </tbody>\n",
       "</table>\n",
       "</div>"
      ],
      "text/plain": [
       "                              Rua              Bairro     Cidade  Metragem  \\\n",
       "0           Avenida Itacira, 255    Planalto Paulista  São Paulo      1000   \n",
       "1  Rua Aurelia Perez Alvarez, 42   Jardim dos Estados  São Paulo       496   \n",
       "2                 Rua Alba Valdez     Jardim Reimberg  São Paulo       125   \n",
       "3             Rua Sem denominação      Jardim Morumbi  São Paulo       310   \n",
       "4        Rua Tobias Barreto, 195                Mooca  São Paulo       100   \n",
       "\n",
       "   Quartos  Banheiros  Vagas         Valor                 Logradouro Numero  \n",
       "0        4          8      6  R$ 7.000.000            Avenida Itacira   255   \n",
       "1        4          4      4  R$ 3.700.000  Rua Aurelia Perez Alvarez    42   \n",
       "2        4          3      2    R$ 380.000            Rua Alba Valdez   None  \n",
       "3        3          2      4    R$ 685.000        Rua Sem denominação   None  \n",
       "4        3          2      2    R$ 540.000         Rua Tobias Barreto   195   "
      ]
     },
     "execution_count": 118,
     "metadata": {},
     "output_type": "execute_result"
    }
   ],
   "source": [
    "#Separando nome da rua do número\n",
    "df[['Logradouro', 'Numero']] = df['Rua'].str.split(',', 1, expand = True)\n",
    "df.head()"
   ]
  },
  {
   "cell_type": "code",
   "execution_count": 119,
   "id": "dd4589e1",
   "metadata": {},
   "outputs": [
    {
     "data": {
      "text/plain": [
       "['Rua Madalena de Morais',\n",
       " 'Rua Vergueiro',\n",
       " 'Rua Alvorada do Sul',\n",
       " 'Rua Professor Eduardo Monteiro',\n",
       " 'Avenida Comendador Adibo Ares',\n",
       " 'Rua Alvorada do Sul',\n",
       " 'Rua Professor Eduardo Monteiro',\n",
       " 'Rua Santo Eufredo',\n",
       " 'Rua Professor Lúcio Martins Rodrigues',\n",
       " 'Rua Pacobá']"
      ]
     },
     "execution_count": 119,
     "metadata": {},
     "output_type": "execute_result"
    }
   ],
   "source": [
    "rua_sem_bairro = list(df.loc[df['Bairro'].isna(), 'Logradouro'])\n",
    "rua_sem_bairro"
   ]
  },
  {
   "cell_type": "code",
   "execution_count": 120,
   "id": "e7c5354c",
   "metadata": {},
   "outputs": [
    {
     "data": {
      "text/plain": [
       "[['Rua Madalena de Morais', 'Jardim Leonor'],\n",
       " ['Rua Vergueiro', 'Vila Firmiano Pinto'],\n",
       " ['Rua Alvorada do Sul', 'Jardim Guedala'],\n",
       " ['Rua Professor Eduardo Monteiro', 'Jardim Leonor'],\n",
       " ['Avenida Comendador Adibo Ares', 'Morumbi'],\n",
       " ['Rua Alvorada do Sul', 'Jardim Guedala'],\n",
       " ['Rua Professor Eduardo Monteiro', 'Jardim Leonor'],\n",
       " ['Rua Santo Eufredo', 'Jardim Guedala'],\n",
       " ['Rua Professor Lúcio Martins Rodrigues', 'Sem denominação'],\n",
       " ['Rua Pacobá', 'Jardim Panorama']]"
      ]
     },
     "execution_count": 120,
     "metadata": {},
     "output_type": "execute_result"
    }
   ],
   "source": [
    "#Descobrindo o nome do bairro correspondente a rua\n",
    "bairro_correspondente = []\n",
    "for rua in rua_sem_bairro:\n",
    "    bairro = df.loc[df['Rua'] == rua, 'Bairro'].unique()\n",
    "    if len(bairro) > 0:\n",
    "        bairro_correspondente.append([rua, bairro[0]])\n",
    "    else:\n",
    "        bairro_correspondente.append([rua, 'Sem denominação'])\n",
    "#Verificando\n",
    "bairro_correspondente"
   ]
  },
  {
   "cell_type": "code",
   "execution_count": 121,
   "id": "9eb320ed",
   "metadata": {},
   "outputs": [
    {
     "data": {
      "text/plain": [
       "Rua              0\n",
       "Bairro           0\n",
       "Cidade           0\n",
       "Metragem         0\n",
       "Quartos          0\n",
       "Banheiros        0\n",
       "Vagas            0\n",
       "Valor            0\n",
       "Logradouro       0\n",
       "Numero        8174\n",
       "dtype: int64"
      ]
     },
     "execution_count": 121,
     "metadata": {},
     "output_type": "execute_result"
    }
   ],
   "source": [
    "#Fill missings\n",
    "for bairro in bairro_correspondente[1]:\n",
    "    df.loc[df['Bairro'].isna(), 'Bairro'] = bairro\n",
    "df.isna().sum()"
   ]
  },
  {
   "cell_type": "markdown",
   "id": "564e984d",
   "metadata": {},
   "source": [
    "### Bairros com maior número de anúncios"
   ]
  },
  {
   "cell_type": "markdown",
   "id": "7fea9c87",
   "metadata": {},
   "source": [
    "#### Definindo função de plotagem"
   ]
  },
  {
   "cell_type": "code",
   "execution_count": 122,
   "id": "b5241aeb",
   "metadata": {},
   "outputs": [],
   "source": [
    "def barhplot(y:str, data: pd.DataFrame, palette: str, title: str, figsize = (8, 10)):\n",
    "    #Criando gradiente de cores para as barras\n",
    "    cmap = plt.cm.get_cmap(palette)\n",
    "    bar_colors = [mpc.to_hex(cmap(k)) for k in np.linspace(1, 0.4, len(data))]\n",
    "    #Plot do gráfico de barras\n",
    "    plt.figure(figsize = figsize)\n",
    "    g = plt.barh(data.index, data[y], color = bar_colors)\n",
    "    plt.gca().invert_yaxis()\n",
    "    #Adicionando rótulos para os dados\n",
    "    for bar in g.patches:\n",
    "        value = bar.get_width()\n",
    "        plt.text(s = f'{value}',\n",
    "                 x = bar.get_x() + bar.get_width(),\n",
    "                 y = bar.get_y() + bar.get_height()/2 ,\n",
    "                 ha = 'right',\n",
    "                 va = 'center',\n",
    "                 fontweight = 'bold',\n",
    "                 color = 'white')\n",
    "    #Titulo\n",
    "    plt.gca().set_title(f'{title}', fontweight = 'bold');\n",
    "    #Removendo eixos\n",
    "    for spine in ['top', 'bottom', 'left', 'right']:\n",
    "        plt.gca().spines[spine].set_visible(False)\n",
    "    #Removendo xticks\n",
    "    plt.tick_params(axis = 'x', bottom = False, labelbottom = False)"
   ]
  },
  {
   "cell_type": "markdown",
   "id": "458736c2",
   "metadata": {},
   "source": [
    "#### Agrupando dados"
   ]
  },
  {
   "cell_type": "code",
   "execution_count": 123,
   "id": "0e680f26",
   "metadata": {
    "scrolled": false
   },
   "outputs": [
    {
     "data": {
      "text/html": [
       "<div>\n",
       "<style scoped>\n",
       "    .dataframe tbody tr th:only-of-type {\n",
       "        vertical-align: middle;\n",
       "    }\n",
       "\n",
       "    .dataframe tbody tr th {\n",
       "        vertical-align: top;\n",
       "    }\n",
       "\n",
       "    .dataframe thead th {\n",
       "        text-align: right;\n",
       "    }\n",
       "</style>\n",
       "<table border=\"1\" class=\"dataframe\">\n",
       "  <thead>\n",
       "    <tr style=\"text-align: right;\">\n",
       "      <th></th>\n",
       "      <th>Nº de anúncios</th>\n",
       "    </tr>\n",
       "    <tr>\n",
       "      <th>Bairro</th>\n",
       "      <th></th>\n",
       "    </tr>\n",
       "  </thead>\n",
       "  <tbody>\n",
       "    <tr>\n",
       "      <th>Alto de Pinheiros</th>\n",
       "      <td>391</td>\n",
       "    </tr>\n",
       "    <tr>\n",
       "      <th>Jardim Guedala</th>\n",
       "      <td>378</td>\n",
       "    </tr>\n",
       "    <tr>\n",
       "      <th>Jardim Paulista</th>\n",
       "      <td>294</td>\n",
       "    </tr>\n",
       "    <tr>\n",
       "      <th>Cidade Jardim</th>\n",
       "      <td>225</td>\n",
       "    </tr>\n",
       "    <tr>\n",
       "      <th>Brooklin Paulista</th>\n",
       "      <td>224</td>\n",
       "    </tr>\n",
       "    <tr>\n",
       "      <th>Jardim Europa</th>\n",
       "      <td>221</td>\n",
       "    </tr>\n",
       "    <tr>\n",
       "      <th>Pacaembu</th>\n",
       "      <td>211</td>\n",
       "    </tr>\n",
       "    <tr>\n",
       "      <th>Vila Madalena</th>\n",
       "      <td>210</td>\n",
       "    </tr>\n",
       "    <tr>\n",
       "      <th>Planalto Paulista</th>\n",
       "      <td>187</td>\n",
       "    </tr>\n",
       "    <tr>\n",
       "      <th>Vila Mariana</th>\n",
       "      <td>176</td>\n",
       "    </tr>\n",
       "    <tr>\n",
       "      <th>Jardim Leonor</th>\n",
       "      <td>170</td>\n",
       "    </tr>\n",
       "    <tr>\n",
       "      <th>Morumbi</th>\n",
       "      <td>167</td>\n",
       "    </tr>\n",
       "    <tr>\n",
       "      <th>Jardim América</th>\n",
       "      <td>163</td>\n",
       "    </tr>\n",
       "    <tr>\n",
       "      <th>Jardim Paulistano</th>\n",
       "      <td>158</td>\n",
       "    </tr>\n",
       "    <tr>\n",
       "      <th>Santo Amaro</th>\n",
       "      <td>153</td>\n",
       "    </tr>\n",
       "  </tbody>\n",
       "</table>\n",
       "</div>"
      ],
      "text/plain": [
       "                   Nº de anúncios\n",
       "Bairro                           \n",
       "Alto de Pinheiros             391\n",
       "Jardim Guedala                378\n",
       "Jardim Paulista               294\n",
       "Cidade Jardim                 225\n",
       "Brooklin Paulista             224\n",
       "Jardim Europa                 221\n",
       "Pacaembu                      211\n",
       "Vila Madalena                 210\n",
       "Planalto Paulista             187\n",
       "Vila Mariana                  176\n",
       "Jardim Leonor                 170\n",
       "Morumbi                       167\n",
       "Jardim América                163\n",
       "Jardim Paulistano             158\n",
       "Santo Amaro                   153"
      ]
     },
     "execution_count": 123,
     "metadata": {},
     "output_type": "execute_result"
    }
   ],
   "source": [
    "top15_anuncios = (df\n",
    "                 .groupby('Bairro')\n",
    "                 .agg({'Bairro': 'count'})\n",
    "                 .rename(columns = {'Bairro': 'Nº de anúncios'})\n",
    "                 .sort_values(by = 'Nº de anúncios', ascending = False)\n",
    "                 .head(15)\n",
    "                )\n",
    "top15_anuncios"
   ]
  },
  {
   "cell_type": "markdown",
   "id": "75685a23",
   "metadata": {},
   "source": [
    "#### Plotando ranking"
   ]
  },
  {
   "cell_type": "code",
   "execution_count": 124,
   "id": "c2d2d642",
   "metadata": {},
   "outputs": [
    {
     "data": {
      "image/png": "[encoded data removed]",
      "text/plain": [
       "<Figure size 576x720 with 1 Axes>"
      ]
     },
     "metadata": {
      "needs_background": "light"
     },
     "output_type": "display_data"
    }
   ],
   "source": [
    "barhplot(y = 'Nº de anúncios', data = top15_anuncios, palette = 'Blues', title = 'Top 15-Bairros com maior nº de anúncios')"
   ]
  },
  {
   "cell_type": "markdown",
   "id": "42d78f5a",
   "metadata": {},
   "source": [
    "### Bairros com maior metragem média"
   ]
  },
  {
   "cell_type": "markdown",
   "id": "ea4a4b39",
   "metadata": {},
   "source": [
    "#### Agrupando dados"
   ]
  },
  {
   "cell_type": "code",
   "execution_count": 126,
   "id": "0791572a",
   "metadata": {},
   "outputs": [
    {
     "data": {
      "text/html": [
       "<div>\n",
       "<style scoped>\n",
       "    .dataframe tbody tr th:only-of-type {\n",
       "        vertical-align: middle;\n",
       "    }\n",
       "\n",
       "    .dataframe tbody tr th {\n",
       "        vertical-align: top;\n",
       "    }\n",
       "\n",
       "    .dataframe thead th {\n",
       "        text-align: right;\n",
       "    }\n",
       "</style>\n",
       "<table border=\"1\" class=\"dataframe\">\n",
       "  <thead>\n",
       "    <tr style=\"text-align: right;\">\n",
       "      <th></th>\n",
       "      <th>Metragem média</th>\n",
       "    </tr>\n",
       "    <tr>\n",
       "      <th>Bairro</th>\n",
       "      <th></th>\n",
       "    </tr>\n",
       "  </thead>\n",
       "  <tbody>\n",
       "    <tr>\n",
       "      <th>Sítio Represa</th>\n",
       "      <td>37000.00</td>\n",
       "    </tr>\n",
       "    <tr>\n",
       "      <th>Vila Castelo</th>\n",
       "      <td>2850.00</td>\n",
       "    </tr>\n",
       "    <tr>\n",
       "      <th>Jardim Guedala</th>\n",
       "      <td>2610.01</td>\n",
       "    </tr>\n",
       "    <tr>\n",
       "      <th>Jardim das Camélias</th>\n",
       "      <td>1700.00</td>\n",
       "    </tr>\n",
       "    <tr>\n",
       "      <th>Chácara Flora</th>\n",
       "      <td>1260.73</td>\n",
       "    </tr>\n",
       "    <tr>\n",
       "      <th>Jardim Sílvia</th>\n",
       "      <td>1172.79</td>\n",
       "    </tr>\n",
       "    <tr>\n",
       "      <th>Vila Aurora</th>\n",
       "      <td>1082.50</td>\n",
       "    </tr>\n",
       "    <tr>\n",
       "      <th>Retiro Morumbi</th>\n",
       "      <td>1060.68</td>\n",
       "    </tr>\n",
       "    <tr>\n",
       "      <th>Paineiras do Morumbi</th>\n",
       "      <td>757.27</td>\n",
       "    </tr>\n",
       "    <tr>\n",
       "      <th>Vila Ivone</th>\n",
       "      <td>722.50</td>\n",
       "    </tr>\n",
       "    <tr>\n",
       "      <th>Jardim Everest</th>\n",
       "      <td>717.18</td>\n",
       "    </tr>\n",
       "    <tr>\n",
       "      <th>Fazenda Morumbi</th>\n",
       "      <td>703.83</td>\n",
       "    </tr>\n",
       "    <tr>\n",
       "      <th>Jardim Petropolis</th>\n",
       "      <td>700.00</td>\n",
       "    </tr>\n",
       "    <tr>\n",
       "      <th>Cidade Jardim</th>\n",
       "      <td>697.03</td>\n",
       "    </tr>\n",
       "    <tr>\n",
       "      <th>Vila Tramontano</th>\n",
       "      <td>671.12</td>\n",
       "    </tr>\n",
       "  </tbody>\n",
       "</table>\n",
       "</div>"
      ],
      "text/plain": [
       "                      Metragem média\n",
       "Bairro                              \n",
       "Sítio Represa               37000.00\n",
       "Vila Castelo                 2850.00\n",
       "Jardim Guedala               2610.01\n",
       "Jardim das Camélias          1700.00\n",
       "Chácara Flora                1260.73\n",
       "Jardim Sílvia                1172.79\n",
       "Vila Aurora                  1082.50\n",
       "Retiro Morumbi               1060.68\n",
       "Paineiras do Morumbi          757.27\n",
       "Vila Ivone                    722.50\n",
       "Jardim Everest                717.18\n",
       "Fazenda Morumbi               703.83\n",
       "Jardim Petropolis             700.00\n",
       "Cidade Jardim                 697.03\n",
       "Vila Tramontano               671.12"
      ]
     },
     "execution_count": 126,
     "metadata": {},
     "output_type": "execute_result"
    }
   ],
   "source": [
    "top15_metragem = (df\n",
    "                 .groupby('Bairro')\n",
    "                 .agg({'Metragem':'mean'})\n",
    "                 .round(2)\n",
    "                 .rename(columns = {'Metragem': 'Metragem média'})\n",
    "                 .sort_values(by = 'Metragem média', ascending = False)\n",
    "                 .head(15)\n",
    "                )\n",
    "top15_metragem"
   ]
  },
  {
   "cell_type": "markdown",
   "id": "5591bf91",
   "metadata": {},
   "source": [
    "#### Plotando ranking"
   ]
  },
  {
   "cell_type": "code",
   "execution_count": 127,
   "id": "968d4a7d",
   "metadata": {},
   "outputs": [
    {
     "data": {
      "image/png": "[encoded data removed]",
      "text/plain": [
       "<Figure size 576x720 with 1 Axes>"
      ]
     },
     "metadata": {
      "needs_background": "light"
     },
     "output_type": "display_data"
    }
   ],
   "source": [
    "#Devido ao alto ´metragem para Sitio Represa, vamos desconsiderá-lo no plot\n",
    "barhplot(y = 'Metragem média', data = top15_metragem[1:], palette = 'RdPu', title = 'Top 15-Bairros com maior metragem média')"
   ]
  },
  {
   "cell_type": "code",
   "execution_count": 128,
   "id": "736bd42b",
   "metadata": {},
   "outputs": [
    {
     "data": {
      "image/png": "[encoded data removed]",
      "text/plain": [
       "<Figure size 1008x504 with 1 Axes>"
      ]
     },
     "metadata": {
      "needs_background": "light"
     },
     "output_type": "display_data"
    }
   ],
   "source": [
    "plt.figure(figsize = (14, 7))\n",
    "ax = sns.boxplot(x = 'Bairro',\n",
    "                 y = 'Metragem',\n",
    "                 data = df.query(\"Metragem <= 3000 and Bairro in @top15_metragem.index\"),\n",
    "                 palette = 'hsv',\n",
    "                 linewidth = 1,\n",
    "                 fliersize = 2)\n",
    "ax.tick_params(axis = 'x', rotation = 90)"
   ]
  },
  {
   "cell_type": "markdown",
   "id": "93d10feb",
   "metadata": {},
   "source": [
    "### Bairros com valor de anúncio mais caros "
   ]
  },
  {
   "cell_type": "markdown",
   "id": "956a0c68",
   "metadata": {},
   "source": [
    "#### Determinando valor de anúncio "
   ]
  },
  {
   "cell_type": "code",
   "execution_count": 129,
   "id": "d3468f90",
   "metadata": {},
   "outputs": [
    {
     "data": {
      "text/html": [
       "<div>\n",
       "<style scoped>\n",
       "    .dataframe tbody tr th:only-of-type {\n",
       "        vertical-align: middle;\n",
       "    }\n",
       "\n",
       "    .dataframe tbody tr th {\n",
       "        vertical-align: top;\n",
       "    }\n",
       "\n",
       "    .dataframe thead th {\n",
       "        text-align: right;\n",
       "    }\n",
       "</style>\n",
       "<table border=\"1\" class=\"dataframe\">\n",
       "  <thead>\n",
       "    <tr style=\"text-align: right;\">\n",
       "      <th></th>\n",
       "      <th>Rua</th>\n",
       "      <th>Bairro</th>\n",
       "      <th>Cidade</th>\n",
       "      <th>Metragem</th>\n",
       "      <th>Quartos</th>\n",
       "      <th>Banheiros</th>\n",
       "      <th>Vagas</th>\n",
       "      <th>Valor</th>\n",
       "      <th>Logradouro</th>\n",
       "      <th>Numero</th>\n",
       "      <th>Moeda</th>\n",
       "    </tr>\n",
       "  </thead>\n",
       "  <tbody>\n",
       "    <tr>\n",
       "      <th>0</th>\n",
       "      <td>Avenida Itacira, 255</td>\n",
       "      <td>Planalto Paulista</td>\n",
       "      <td>São Paulo</td>\n",
       "      <td>1000</td>\n",
       "      <td>4</td>\n",
       "      <td>8</td>\n",
       "      <td>6</td>\n",
       "      <td>7.000.000</td>\n",
       "      <td>Avenida Itacira</td>\n",
       "      <td>255</td>\n",
       "      <td>R$</td>\n",
       "    </tr>\n",
       "    <tr>\n",
       "      <th>1</th>\n",
       "      <td>Rua Aurelia Perez Alvarez, 42</td>\n",
       "      <td>Jardim dos Estados</td>\n",
       "      <td>São Paulo</td>\n",
       "      <td>496</td>\n",
       "      <td>4</td>\n",
       "      <td>4</td>\n",
       "      <td>4</td>\n",
       "      <td>3.700.000</td>\n",
       "      <td>Rua Aurelia Perez Alvarez</td>\n",
       "      <td>42</td>\n",
       "      <td>R$</td>\n",
       "    </tr>\n",
       "    <tr>\n",
       "      <th>2</th>\n",
       "      <td>Rua Alba Valdez</td>\n",
       "      <td>Jardim Reimberg</td>\n",
       "      <td>São Paulo</td>\n",
       "      <td>125</td>\n",
       "      <td>4</td>\n",
       "      <td>3</td>\n",
       "      <td>2</td>\n",
       "      <td>380.000</td>\n",
       "      <td>Rua Alba Valdez</td>\n",
       "      <td>None</td>\n",
       "      <td>R$</td>\n",
       "    </tr>\n",
       "    <tr>\n",
       "      <th>3</th>\n",
       "      <td>Rua Sem denominação</td>\n",
       "      <td>Jardim Morumbi</td>\n",
       "      <td>São Paulo</td>\n",
       "      <td>310</td>\n",
       "      <td>3</td>\n",
       "      <td>2</td>\n",
       "      <td>4</td>\n",
       "      <td>685.000</td>\n",
       "      <td>Rua Sem denominação</td>\n",
       "      <td>None</td>\n",
       "      <td>R$</td>\n",
       "    </tr>\n",
       "    <tr>\n",
       "      <th>4</th>\n",
       "      <td>Rua Tobias Barreto, 195</td>\n",
       "      <td>Mooca</td>\n",
       "      <td>São Paulo</td>\n",
       "      <td>100</td>\n",
       "      <td>3</td>\n",
       "      <td>2</td>\n",
       "      <td>2</td>\n",
       "      <td>540.000</td>\n",
       "      <td>Rua Tobias Barreto</td>\n",
       "      <td>195</td>\n",
       "      <td>R$</td>\n",
       "    </tr>\n",
       "  </tbody>\n",
       "</table>\n",
       "</div>"
      ],
      "text/plain": [
       "                              Rua              Bairro     Cidade  Metragem  \\\n",
       "0           Avenida Itacira, 255    Planalto Paulista  São Paulo      1000   \n",
       "1  Rua Aurelia Perez Alvarez, 42   Jardim dos Estados  São Paulo       496   \n",
       "2                 Rua Alba Valdez     Jardim Reimberg  São Paulo       125   \n",
       "3             Rua Sem denominação      Jardim Morumbi  São Paulo       310   \n",
       "4        Rua Tobias Barreto, 195                Mooca  São Paulo       100   \n",
       "\n",
       "   Quartos  Banheiros  Vagas      Valor                 Logradouro Numero  \\\n",
       "0        4          8      6  7.000.000            Avenida Itacira   255    \n",
       "1        4          4      4  3.700.000  Rua Aurelia Perez Alvarez    42    \n",
       "2        4          3      2    380.000            Rua Alba Valdez   None   \n",
       "3        3          2      4    685.000        Rua Sem denominação   None   \n",
       "4        3          2      2    540.000         Rua Tobias Barreto   195    \n",
       "\n",
       "  Moeda  \n",
       "0    R$  \n",
       "1    R$  \n",
       "2    R$  \n",
       "3    R$  \n",
       "4    R$  "
      ]
     },
     "execution_count": 129,
     "metadata": {},
     "output_type": "execute_result"
    }
   ],
   "source": [
    "df[['Moeda', 'Valor']] = df['Valor'].str.split(' ', 1, expand = True)\n",
    "df.head()"
   ]
  },
  {
   "cell_type": "code",
   "execution_count": 130,
   "id": "7900c341",
   "metadata": {},
   "outputs": [
    {
     "data": {
      "text/plain": [
       "dtype('O')"
      ]
     },
     "execution_count": 130,
     "metadata": {},
     "output_type": "execute_result"
    }
   ],
   "source": [
    "df['Valor'].dtypes"
   ]
  },
  {
   "cell_type": "code",
   "execution_count": 131,
   "id": "913be435",
   "metadata": {},
   "outputs": [
    {
     "name": "stderr",
     "output_type": "stream",
     "text": [
      "<ipython-input-131-2681513bcf82>:2: FutureWarning: The default value of regex will change from True to False in a future version. In addition, single character regular expressions will*not* be treated as literal strings when regex=True.\n",
      "  df['Valor'] = df['Valor'].str.replace('.', '')\n"
     ]
    },
    {
     "data": {
      "text/plain": [
       "0       7000000.0\n",
       "1       3700000.0\n",
       "2        380000.0\n",
       "3        685000.0\n",
       "4        540000.0\n",
       "          ...    \n",
       "9967     665000.0\n",
       "9968    2300000.0\n",
       "9969    1050000.0\n",
       "9970          NaN\n",
       "9971     270000.0\n",
       "Name: Valor, Length: 9453, dtype: float64"
      ]
     },
     "execution_count": 131,
     "metadata": {},
     "output_type": "execute_result"
    }
   ],
   "source": [
    "#Convertendo valor de anúncio para formato adequado\n",
    "df['Valor'] = df['Valor'].str.replace('.', '')\n",
    "df['Valor'] = pd.to_numeric(df['Valor'], errors = 'coerce')\n",
    "df['Valor'] "
   ]
  },
  {
   "cell_type": "code",
   "execution_count": 132,
   "id": "609c7b40",
   "metadata": {},
   "outputs": [
    {
     "data": {
      "text/html": [
       "<div>\n",
       "<style scoped>\n",
       "    .dataframe tbody tr th:only-of-type {\n",
       "        vertical-align: middle;\n",
       "    }\n",
       "\n",
       "    .dataframe tbody tr th {\n",
       "        vertical-align: top;\n",
       "    }\n",
       "\n",
       "    .dataframe thead th {\n",
       "        text-align: right;\n",
       "    }\n",
       "</style>\n",
       "<table border=\"1\" class=\"dataframe\">\n",
       "  <thead>\n",
       "    <tr style=\"text-align: right;\">\n",
       "      <th></th>\n",
       "      <th>Valor</th>\n",
       "    </tr>\n",
       "    <tr>\n",
       "      <th>Bairro</th>\n",
       "      <th></th>\n",
       "    </tr>\n",
       "  </thead>\n",
       "  <tbody>\n",
       "    <tr>\n",
       "      <th>Jardim América</th>\n",
       "      <td>16309431.03</td>\n",
       "    </tr>\n",
       "    <tr>\n",
       "      <th>Jardim Teresa</th>\n",
       "      <td>14836666.67</td>\n",
       "    </tr>\n",
       "    <tr>\n",
       "      <th>Chácara Flora</th>\n",
       "      <td>13500000.00</td>\n",
       "    </tr>\n",
       "    <tr>\n",
       "      <th>Retiro Morumbi</th>\n",
       "      <td>11884545.45</td>\n",
       "    </tr>\n",
       "    <tr>\n",
       "      <th>Jardim Europa</th>\n",
       "      <td>11591912.31</td>\n",
       "    </tr>\n",
       "    <tr>\n",
       "      <th>Jardim Luzitânia</th>\n",
       "      <td>8369096.39</td>\n",
       "    </tr>\n",
       "    <tr>\n",
       "      <th>Jardins</th>\n",
       "      <td>8157142.86</td>\n",
       "    </tr>\n",
       "    <tr>\n",
       "      <th>Morro dos Ingleses</th>\n",
       "      <td>8100000.00</td>\n",
       "    </tr>\n",
       "    <tr>\n",
       "      <th>Jardim Paulista</th>\n",
       "      <td>8079545.10</td>\n",
       "    </tr>\n",
       "    <tr>\n",
       "      <th>Jardim Sílvia</th>\n",
       "      <td>6221600.00</td>\n",
       "    </tr>\n",
       "  </tbody>\n",
       "</table>\n",
       "</div>"
      ],
      "text/plain": [
       "                          Valor\n",
       "Bairro                         \n",
       "Jardim América      16309431.03\n",
       "Jardim Teresa       14836666.67\n",
       "Chácara Flora       13500000.00\n",
       "Retiro Morumbi      11884545.45\n",
       "Jardim Europa       11591912.31\n",
       "Jardim Luzitânia     8369096.39\n",
       "Jardins              8157142.86\n",
       "Morro dos Ingleses   8100000.00\n",
       "Jardim Paulista      8079545.10\n",
       "Jardim Sílvia        6221600.00"
      ]
     },
     "execution_count": 132,
     "metadata": {},
     "output_type": "execute_result"
    }
   ],
   "source": [
    "bairros_mais_caros = (df[['Bairro', 'Valor']]\n",
    "                     .groupby('Bairro')\n",
    "                     .agg('mean')\n",
    "                     .round(2)\n",
    "                     .sort_values(by = 'Valor', ascending = False)\n",
    "                     .head(10)\n",
    "                     )\n",
    "bairros_mais_caros"
   ]
  },
  {
   "cell_type": "markdown",
   "id": "7b3b3385",
   "metadata": {},
   "source": [
    "#### Plotando ranking"
   ]
  },
  {
   "cell_type": "code",
   "execution_count": 133,
   "id": "7c39c970",
   "metadata": {},
   "outputs": [
    {
     "data": {
      "image/png": "[encoded data removed]",
      "text/plain": [
       "<Figure size 576x720 with 1 Axes>"
      ]
     },
     "metadata": {
      "needs_background": "light"
     },
     "output_type": "display_data"
    }
   ],
   "source": [
    "barhplot(y = 'Valor', data = bairros_mais_caros, palette = 'Purples', title = 'Top 10-Bairros com maior valor de anúncio médio')"
   ]
  },
  {
   "cell_type": "code",
   "execution_count": 134,
   "id": "e6f46b72",
   "metadata": {},
   "outputs": [
    {
     "data": {
      "image/png": "[encoded data removed]",
      "text/plain": [
       "<Figure size 1008x504 with 1 Axes>"
      ]
     },
     "metadata": {
      "needs_background": "light"
     },
     "output_type": "display_data"
    }
   ],
   "source": [
    "plt.figure(figsize = (14, 7))\n",
    "ax = sns.boxplot(x = 'Bairro',\n",
    "                 y = 'Valor',\n",
    "                 data = df.query(\"Bairro in @bairros_mais_caros.index\"),\n",
    "                 palette = 'hsv',\n",
    "                 linewidth = 1,\n",
    "                 fliersize = 2)\n",
    "ax.tick_params(axis = 'x', rotation = 90)"
   ]
  },
  {
   "cell_type": "markdown",
   "id": "40098985",
   "metadata": {},
   "source": [
    "### Bairros com valor de metro quadrado mais caros "
   ]
  },
  {
   "cell_type": "code",
   "execution_count": 135,
   "id": "70d1188f",
   "metadata": {},
   "outputs": [
    {
     "data": {
      "text/html": [
       "<div>\n",
       "<style scoped>\n",
       "    .dataframe tbody tr th:only-of-type {\n",
       "        vertical-align: middle;\n",
       "    }\n",
       "\n",
       "    .dataframe tbody tr th {\n",
       "        vertical-align: top;\n",
       "    }\n",
       "\n",
       "    .dataframe thead th {\n",
       "        text-align: right;\n",
       "    }\n",
       "</style>\n",
       "<table border=\"1\" class=\"dataframe\">\n",
       "  <thead>\n",
       "    <tr style=\"text-align: right;\">\n",
       "      <th></th>\n",
       "      <th>Rua</th>\n",
       "      <th>Bairro</th>\n",
       "      <th>Cidade</th>\n",
       "      <th>Metragem</th>\n",
       "      <th>Quartos</th>\n",
       "      <th>Banheiros</th>\n",
       "      <th>Vagas</th>\n",
       "      <th>Valor</th>\n",
       "      <th>Logradouro</th>\n",
       "      <th>Numero</th>\n",
       "      <th>Moeda</th>\n",
       "      <th>Valor_m2</th>\n",
       "    </tr>\n",
       "  </thead>\n",
       "  <tbody>\n",
       "    <tr>\n",
       "      <th>0</th>\n",
       "      <td>Avenida Itacira, 255</td>\n",
       "      <td>Planalto Paulista</td>\n",
       "      <td>São Paulo</td>\n",
       "      <td>1000</td>\n",
       "      <td>4</td>\n",
       "      <td>8</td>\n",
       "      <td>6</td>\n",
       "      <td>7000000.0</td>\n",
       "      <td>Avenida Itacira</td>\n",
       "      <td>255</td>\n",
       "      <td>R$</td>\n",
       "      <td>7000.000000</td>\n",
       "    </tr>\n",
       "    <tr>\n",
       "      <th>1</th>\n",
       "      <td>Rua Aurelia Perez Alvarez, 42</td>\n",
       "      <td>Jardim dos Estados</td>\n",
       "      <td>São Paulo</td>\n",
       "      <td>496</td>\n",
       "      <td>4</td>\n",
       "      <td>4</td>\n",
       "      <td>4</td>\n",
       "      <td>3700000.0</td>\n",
       "      <td>Rua Aurelia Perez Alvarez</td>\n",
       "      <td>42</td>\n",
       "      <td>R$</td>\n",
       "      <td>7459.677419</td>\n",
       "    </tr>\n",
       "    <tr>\n",
       "      <th>2</th>\n",
       "      <td>Rua Alba Valdez</td>\n",
       "      <td>Jardim Reimberg</td>\n",
       "      <td>São Paulo</td>\n",
       "      <td>125</td>\n",
       "      <td>4</td>\n",
       "      <td>3</td>\n",
       "      <td>2</td>\n",
       "      <td>380000.0</td>\n",
       "      <td>Rua Alba Valdez</td>\n",
       "      <td>None</td>\n",
       "      <td>R$</td>\n",
       "      <td>3040.000000</td>\n",
       "    </tr>\n",
       "    <tr>\n",
       "      <th>3</th>\n",
       "      <td>Rua Sem denominação</td>\n",
       "      <td>Jardim Morumbi</td>\n",
       "      <td>São Paulo</td>\n",
       "      <td>310</td>\n",
       "      <td>3</td>\n",
       "      <td>2</td>\n",
       "      <td>4</td>\n",
       "      <td>685000.0</td>\n",
       "      <td>Rua Sem denominação</td>\n",
       "      <td>None</td>\n",
       "      <td>R$</td>\n",
       "      <td>2209.677419</td>\n",
       "    </tr>\n",
       "    <tr>\n",
       "      <th>4</th>\n",
       "      <td>Rua Tobias Barreto, 195</td>\n",
       "      <td>Mooca</td>\n",
       "      <td>São Paulo</td>\n",
       "      <td>100</td>\n",
       "      <td>3</td>\n",
       "      <td>2</td>\n",
       "      <td>2</td>\n",
       "      <td>540000.0</td>\n",
       "      <td>Rua Tobias Barreto</td>\n",
       "      <td>195</td>\n",
       "      <td>R$</td>\n",
       "      <td>5400.000000</td>\n",
       "    </tr>\n",
       "  </tbody>\n",
       "</table>\n",
       "</div>"
      ],
      "text/plain": [
       "                              Rua              Bairro     Cidade  Metragem  \\\n",
       "0           Avenida Itacira, 255    Planalto Paulista  São Paulo      1000   \n",
       "1  Rua Aurelia Perez Alvarez, 42   Jardim dos Estados  São Paulo       496   \n",
       "2                 Rua Alba Valdez     Jardim Reimberg  São Paulo       125   \n",
       "3             Rua Sem denominação      Jardim Morumbi  São Paulo       310   \n",
       "4        Rua Tobias Barreto, 195                Mooca  São Paulo       100   \n",
       "\n",
       "   Quartos  Banheiros  Vagas      Valor                 Logradouro Numero  \\\n",
       "0        4          8      6  7000000.0            Avenida Itacira   255    \n",
       "1        4          4      4  3700000.0  Rua Aurelia Perez Alvarez    42    \n",
       "2        4          3      2   380000.0            Rua Alba Valdez   None   \n",
       "3        3          2      4   685000.0        Rua Sem denominação   None   \n",
       "4        3          2      2   540000.0         Rua Tobias Barreto   195    \n",
       "\n",
       "  Moeda     Valor_m2  \n",
       "0    R$  7000.000000  \n",
       "1    R$  7459.677419  \n",
       "2    R$  3040.000000  \n",
       "3    R$  2209.677419  \n",
       "4    R$  5400.000000  "
      ]
     },
     "execution_count": 135,
     "metadata": {},
     "output_type": "execute_result"
    }
   ],
   "source": [
    "#Cálculo do valor do metro quadrado\n",
    "df['Valor_m2'] = df['Valor'].div(df['Metragem'], axis = 0)\n",
    "df.head()"
   ]
  },
  {
   "cell_type": "code",
   "execution_count": 136,
   "id": "f50c8e6f",
   "metadata": {},
   "outputs": [
    {
     "data": {
      "text/html": [
       "<div>\n",
       "<style scoped>\n",
       "    .dataframe tbody tr th:only-of-type {\n",
       "        vertical-align: middle;\n",
       "    }\n",
       "\n",
       "    .dataframe tbody tr th {\n",
       "        vertical-align: top;\n",
       "    }\n",
       "\n",
       "    .dataframe thead th {\n",
       "        text-align: right;\n",
       "    }\n",
       "</style>\n",
       "<table border=\"1\" class=\"dataframe\">\n",
       "  <thead>\n",
       "    <tr style=\"text-align: right;\">\n",
       "      <th></th>\n",
       "      <th>Valor_m2</th>\n",
       "    </tr>\n",
       "    <tr>\n",
       "      <th>Bairro</th>\n",
       "      <th></th>\n",
       "    </tr>\n",
       "  </thead>\n",
       "  <tbody>\n",
       "    <tr>\n",
       "      <th>Vila Guaca</th>\n",
       "      <td>80000.00</td>\n",
       "    </tr>\n",
       "    <tr>\n",
       "      <th>Jardim América</th>\n",
       "      <td>24018.51</td>\n",
       "    </tr>\n",
       "    <tr>\n",
       "      <th>Jardim Europa</th>\n",
       "      <td>20104.49</td>\n",
       "    </tr>\n",
       "    <tr>\n",
       "      <th>Jardim Ampliação</th>\n",
       "      <td>17661.25</td>\n",
       "    </tr>\n",
       "    <tr>\n",
       "      <th>Jardim Teresa</th>\n",
       "      <td>17465.56</td>\n",
       "    </tr>\n",
       "    <tr>\n",
       "      <th>Vila Nova Conceição</th>\n",
       "      <td>17401.06</td>\n",
       "    </tr>\n",
       "    <tr>\n",
       "      <th>Jardim Luzitânia</th>\n",
       "      <td>16531.57</td>\n",
       "    </tr>\n",
       "    <tr>\n",
       "      <th>Jardim Paulista</th>\n",
       "      <td>16048.78</td>\n",
       "    </tr>\n",
       "    <tr>\n",
       "      <th>Jardim Paulistano</th>\n",
       "      <td>14897.62</td>\n",
       "    </tr>\n",
       "    <tr>\n",
       "      <th>Itaim Bibi</th>\n",
       "      <td>13601.60</td>\n",
       "    </tr>\n",
       "  </tbody>\n",
       "</table>\n",
       "</div>"
      ],
      "text/plain": [
       "                     Valor_m2\n",
       "Bairro                       \n",
       "Vila Guaca           80000.00\n",
       "Jardim América       24018.51\n",
       "Jardim Europa        20104.49\n",
       "Jardim Ampliação     17661.25\n",
       "Jardim Teresa        17465.56\n",
       "Vila Nova Conceição  17401.06\n",
       "Jardim Luzitânia     16531.57\n",
       "Jardim Paulista      16048.78\n",
       "Jardim Paulistano    14897.62\n",
       "Itaim Bibi           13601.60"
      ]
     },
     "execution_count": 136,
     "metadata": {},
     "output_type": "execute_result"
    }
   ],
   "source": [
    "m2_mais_caro = (df[['Bairro', 'Valor_m2']]\n",
    "                .groupby('Bairro')\n",
    "                .agg('mean')\n",
    "                .round(2)\n",
    "                .sort_values(by = 'Valor_m2', ascending = False)\n",
    "                .head(10)\n",
    "                )\n",
    "m2_mais_caro"
   ]
  },
  {
   "cell_type": "code",
   "execution_count": 137,
   "id": "40fe0362",
   "metadata": {},
   "outputs": [
    {
     "data": {
      "image/png": "[encoded data removed]",
      "text/plain": [
       "<Figure size 576x720 with 1 Axes>"
      ]
     },
     "metadata": {
      "needs_background": "light"
     },
     "output_type": "display_data"
    }
   ],
   "source": [
    "barhplot(y = 'Valor_m2', data = m2_mais_caro, palette = 'Reds', title = 'Top 10-Bairros com Valor do metro quadrado mais caro')"
   ]
  },
  {
   "cell_type": "code",
   "execution_count": 138,
   "id": "e3c9bc88",
   "metadata": {},
   "outputs": [
    {
     "data": {
      "image/png": "[encoded data removed]",
      "text/plain": [
       "<Figure size 1008x504 with 1 Axes>"
      ]
     },
     "metadata": {
      "needs_background": "light"
     },
     "output_type": "display_data"
    }
   ],
   "source": [
    "plt.figure(figsize = (14, 7))\n",
    "ax = sns.boxplot(x = 'Bairro',\n",
    "                 y = 'Valor_m2',\n",
    "                 data = df.query(\"Bairro in @m2_mais_caro.index\"),\n",
    "                 palette = 'hsv',\n",
    "                 linewidth = 1,\n",
    "                 fliersize = 2)\n",
    "ax.tick_params(axis = 'x', rotation = 90)"
   ]
  },
  {
   "cell_type": "markdown",
   "id": "2117dfe2",
   "metadata": {},
   "source": [
    "### Histograma dos valores de anúncios"
   ]
  },
  {
   "cell_type": "code",
   "execution_count": 139,
   "id": "3bd3dc26",
   "metadata": {},
   "outputs": [
    {
     "data": {
      "text/plain": [
       "<seaborn.axisgrid.FacetGrid at 0x173268419a0>"
      ]
     },
     "execution_count": 139,
     "metadata": {},
     "output_type": "execute_result"
    },
    {
     "data": {
      "image/png": "[encoded data removed]",
      "text/plain": [
       "<Figure size 360x360 with 1 Axes>"
      ]
     },
     "metadata": {
      "needs_background": "light"
     },
     "output_type": "display_data"
    }
   ],
   "source": [
    "sns.displot(data = df, x = 'Valor', bins = 15)"
   ]
  },
  {
   "cell_type": "code",
   "execution_count": 140,
   "id": "c018880f",
   "metadata": {},
   "outputs": [
    {
     "name": "stdout",
     "output_type": "stream",
     "text": [
      "Percentual de valores menores que R$20000000.00: 0.9057\n",
      "Percentual de valores menores que R$10000000.00: 0.8706\n",
      "Percentual de valores menores que R$7500000.00: 0.8392\n"
     ]
    }
   ],
   "source": [
    "valores = [2e7, 1e7, .75e7]\n",
    "for valor in valores:\n",
    "    percentual = np.mean(df.Valor <= valor)\n",
    "    print(f'Percentual de valores menores que R${valor:.2f}: {percentual:.4f}')"
   ]
  },
  {
   "cell_type": "code",
   "execution_count": 141,
   "id": "8732bbea",
   "metadata": {},
   "outputs": [
    {
     "data": {
      "text/plain": [
       "<Figure size 720x1080 with 0 Axes>"
      ]
     },
     "metadata": {},
     "output_type": "display_data"
    },
    {
     "data": {
      "image/png": "[encoded data removed]",
      "text/plain": [
       "<Figure size 360x360 with 1 Axes>"
      ]
     },
     "metadata": {
      "needs_background": "light"
     },
     "output_type": "display_data"
    },
    {
     "data": {
      "image/png": "[encoded data removed]",
      "text/plain": [
       "<Figure size 360x360 with 1 Axes>"
      ]
     },
     "metadata": {
      "needs_background": "light"
     },
     "output_type": "display_data"
    },
    {
     "data": {
      "image/png": "[encoded data removed]",
      "text/plain": [
       "<Figure size 360x360 with 1 Axes>"
      ]
     },
     "metadata": {
      "needs_background": "light"
     },
     "output_type": "display_data"
    }
   ],
   "source": [
    "plt.figure(figsize = (10, 15))\n",
    "valores = [2e7, 1e7, .75e7]\n",
    "for valor in valores:\n",
    "    sns.displot(data = df.query(f\"Valor <= {valor}\"), x = 'Valor', bins = 15)"
   ]
  },
  {
   "cell_type": "markdown",
   "id": "1c0cc9da",
   "metadata": {},
   "source": [
    "### Relação dos valores de anúncio e as demais variáveis"
   ]
  },
  {
   "cell_type": "code",
   "execution_count": 142,
   "id": "a40494ef",
   "metadata": {},
   "outputs": [
    {
     "data": {
      "text/html": [
       "<div>\n",
       "<style scoped>\n",
       "    .dataframe tbody tr th:only-of-type {\n",
       "        vertical-align: middle;\n",
       "    }\n",
       "\n",
       "    .dataframe tbody tr th {\n",
       "        vertical-align: top;\n",
       "    }\n",
       "\n",
       "    .dataframe thead th {\n",
       "        text-align: right;\n",
       "    }\n",
       "</style>\n",
       "<table border=\"1\" class=\"dataframe\">\n",
       "  <thead>\n",
       "    <tr style=\"text-align: right;\">\n",
       "      <th></th>\n",
       "      <th>Metragem</th>\n",
       "      <th>Quartos</th>\n",
       "      <th>Banheiros</th>\n",
       "      <th>Vagas</th>\n",
       "      <th>Valor</th>\n",
       "      <th>Valor_m2</th>\n",
       "    </tr>\n",
       "  </thead>\n",
       "  <tbody>\n",
       "    <tr>\n",
       "      <th>0.90</th>\n",
       "      <td>700.0</td>\n",
       "      <td>5.0</td>\n",
       "      <td>6.0</td>\n",
       "      <td>7.0</td>\n",
       "      <td>6500000.0</td>\n",
       "      <td>14438.502674</td>\n",
       "    </tr>\n",
       "    <tr>\n",
       "      <th>0.95</th>\n",
       "      <td>865.0</td>\n",
       "      <td>5.0</td>\n",
       "      <td>7.0</td>\n",
       "      <td>9.0</td>\n",
       "      <td>10000000.0</td>\n",
       "      <td>18375.241779</td>\n",
       "    </tr>\n",
       "    <tr>\n",
       "      <th>0.99</th>\n",
       "      <td>1300.0</td>\n",
       "      <td>7.0</td>\n",
       "      <td>9.0</td>\n",
       "      <td>14.0</td>\n",
       "      <td>19920000.0</td>\n",
       "      <td>28301.886792</td>\n",
       "    </tr>\n",
       "  </tbody>\n",
       "</table>\n",
       "</div>"
      ],
      "text/plain": [
       "      Metragem  Quartos  Banheiros  Vagas       Valor      Valor_m2\n",
       "0.90     700.0      5.0        6.0    7.0   6500000.0  14438.502674\n",
       "0.95     865.0      5.0        7.0    9.0  10000000.0  18375.241779\n",
       "0.99    1300.0      7.0        9.0   14.0  19920000.0  28301.886792"
      ]
     },
     "execution_count": 142,
     "metadata": {},
     "output_type": "execute_result"
    }
   ],
   "source": [
    "df.quantile([.9, .95, .99], axis = 0)"
   ]
  },
  {
   "cell_type": "code",
   "execution_count": 143,
   "id": "498a45b9",
   "metadata": {},
   "outputs": [
    {
     "data": {
      "image/png": "[encoded data removed]",
      "text/plain": [
       "<Figure size 720x1080 with 3 Axes>"
      ]
     },
     "metadata": {
      "needs_background": "light"
     },
     "output_type": "display_data"
    }
   ],
   "source": [
    "fig, axs = plt.subplots(3, 1, figsize = (10, 15))\n",
    "cols = ['Quartos', 'Banheiros', 'Vagas']\n",
    "for ax, col in zip(axs, cols):\n",
    "    sns.pointplot(ax = ax,\n",
    "                  x = col,\n",
    "                  y = 'Valor',\n",
    "                  data = df,\n",
    "                  scale = 0.8,\n",
    "                  errwidth = 1.2,\n",
    "                  capsize = 0.5,\n",
    "                  join = False)"
   ]
  },
  {
   "cell_type": "code",
   "execution_count": 144,
   "id": "5eef7510",
   "metadata": {},
   "outputs": [
    {
     "data": {
      "text/plain": [
       "<seaborn.axisgrid.JointGrid at 0x173268fe580>"
      ]
     },
     "execution_count": 144,
     "metadata": {},
     "output_type": "execute_result"
    },
    {
     "data": {
      "image/png": "[encoded data removed]",
      "text/plain": [
       "<Figure size 576x576 with 3 Axes>"
      ]
     },
     "metadata": {
      "needs_background": "light"
     },
     "output_type": "display_data"
    }
   ],
   "source": [
    "g = sns.JointGrid(x = 'Metragem', y = 'Valor', data = df.query('Metragem <= 1300 and Valor <= 2e7'), height = 8)\n",
    "g.plot_joint(sns.scatterplot, color = '#FF00FF', alpha = 0.5)\n",
    "g.plot_marginals(sns.histplot, color = '#FF00FF')"
   ]
  },
  {
   "cell_type": "code",
   "execution_count": null,
   "id": "a594b757",
   "metadata": {},
   "outputs": [],
   "source": []
  }
 ],
 "metadata": {
  "kernelspec": {
   "display_name": "Python 3",
   "language": "python",
   "name": "python3"
  },
  "language_info": {
   "codemirror_mode": {
    "name": "ipython",
    "version": 3
   },
   "file_extension": ".py",
   "mimetype": "text/x-python",
   "name": "python",
   "nbconvert_exporter": "python",
   "pygments_lexer": "ipython3",
   "version": "3.8.8"
  }
 },
 "nbformat": 4,
 "nbformat_minor": 5
}
