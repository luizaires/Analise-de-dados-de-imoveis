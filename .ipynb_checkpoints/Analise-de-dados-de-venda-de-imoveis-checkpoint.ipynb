{
 "cells": [
  {
   "cell_type": "markdown",
   "id": "48286472",
   "metadata": {},
   "source": [
    "## Análise de dados de vendas de Imóveis"
   ]
  },
  {
   "cell_type": "markdown",
   "id": "4c7b22ee",
   "metadata": {},
   "source": [
    "### Carregando *packages*"
   ]
  },
  {
   "cell_type": "code",
   "execution_count": 1,
   "id": "b5f7af41",
   "metadata": {},
   "outputs": [],
   "source": [
    "import numpy as np\n",
    "import pandas as pd\n",
    "import matplotlib as mpl\n",
    "import matplotlib.pyplot as plt\n",
    "import matplotlib.colors as mpc\n",
    "import seaborn as sns"
   ]
  },
  {
   "cell_type": "markdown",
   "id": "2beaff7e",
   "metadata": {},
   "source": [
    "### Carregando base de dados"
   ]
  },
  {
   "cell_type": "code",
   "execution_count": 2,
   "id": "740130c8",
   "metadata": {
    "scrolled": false
   },
   "outputs": [
    {
     "data": {
      "text/html": [
       "<div>\n",
       "<style scoped>\n",
       "    .dataframe tbody tr th:only-of-type {\n",
       "        vertical-align: middle;\n",
       "    }\n",
       "\n",
       "    .dataframe tbody tr th {\n",
       "        vertical-align: top;\n",
       "    }\n",
       "\n",
       "    .dataframe thead th {\n",
       "        text-align: right;\n",
       "    }\n",
       "</style>\n",
       "<table border=\"1\" class=\"dataframe\">\n",
       "  <thead>\n",
       "    <tr style=\"text-align: right;\">\n",
       "      <th></th>\n",
       "      <th>Rua</th>\n",
       "      <th>Bairro</th>\n",
       "      <th>Cidade</th>\n",
       "      <th>Metragem</th>\n",
       "      <th>Quartos</th>\n",
       "      <th>Banheiros</th>\n",
       "      <th>Vagas</th>\n",
       "      <th>Valor</th>\n",
       "      <th>Valor_anuncio</th>\n",
       "      <th>Tipo_anuncio</th>\n",
       "      <th>...</th>\n",
       "      <th>V003</th>\n",
       "      <th>V004</th>\n",
       "      <th>V005</th>\n",
       "      <th>V006</th>\n",
       "      <th>V007</th>\n",
       "      <th>V008</th>\n",
       "      <th>V009</th>\n",
       "      <th>V010</th>\n",
       "      <th>V011</th>\n",
       "      <th>V012</th>\n",
       "    </tr>\n",
       "  </thead>\n",
       "  <tbody>\n",
       "    <tr>\n",
       "      <th>0</th>\n",
       "      <td>Avenida Itacira, 255</td>\n",
       "      <td>Planalto Paulista</td>\n",
       "      <td>São Paulo</td>\n",
       "      <td>1000</td>\n",
       "      <td>4</td>\n",
       "      <td>8</td>\n",
       "      <td>6</td>\n",
       "      <td>R$ 7.000.000</td>\n",
       "      <td>7000000.0</td>\n",
       "      <td>NaN</td>\n",
       "      <td>...</td>\n",
       "      <td>2.66</td>\n",
       "      <td>2.04</td>\n",
       "      <td>3158.96</td>\n",
       "      <td>22210644.93</td>\n",
       "      <td>5570.65</td>\n",
       "      <td>25770816.97</td>\n",
       "      <td>2096.19</td>\n",
       "      <td>13029851.56</td>\n",
       "      <td>3930.35</td>\n",
       "      <td>17241576.74</td>\n",
       "    </tr>\n",
       "    <tr>\n",
       "      <th>1</th>\n",
       "      <td>Rua Aurelia Perez Alvarez, 42</td>\n",
       "      <td>Jardim dos Estados</td>\n",
       "      <td>São Paulo</td>\n",
       "      <td>496</td>\n",
       "      <td>4</td>\n",
       "      <td>4</td>\n",
       "      <td>4</td>\n",
       "      <td>R$ 3.700.000</td>\n",
       "      <td>3700000.0</td>\n",
       "      <td>NaN</td>\n",
       "      <td>...</td>\n",
       "      <td>3.13</td>\n",
       "      <td>1.96</td>\n",
       "      <td>7600.44</td>\n",
       "      <td>36778930.17</td>\n",
       "      <td>7890.53</td>\n",
       "      <td>35886906.64</td>\n",
       "      <td>4149.00</td>\n",
       "      <td>26760682.90</td>\n",
       "      <td>6063.92</td>\n",
       "      <td>27502674.90</td>\n",
       "    </tr>\n",
       "    <tr>\n",
       "      <th>2</th>\n",
       "      <td>Rua Alba Valdez</td>\n",
       "      <td>Jardim Reimberg</td>\n",
       "      <td>São Paulo</td>\n",
       "      <td>125</td>\n",
       "      <td>4</td>\n",
       "      <td>3</td>\n",
       "      <td>2</td>\n",
       "      <td>R$ 380.000</td>\n",
       "      <td>380000.0</td>\n",
       "      <td>NaN</td>\n",
       "      <td>...</td>\n",
       "      <td>3.47</td>\n",
       "      <td>3.06</td>\n",
       "      <td>805.13</td>\n",
       "      <td>769188.78</td>\n",
       "      <td>1011.75</td>\n",
       "      <td>757433.42</td>\n",
       "      <td>518.77</td>\n",
       "      <td>426672.78</td>\n",
       "      <td>858.51</td>\n",
       "      <td>414378.88</td>\n",
       "    </tr>\n",
       "    <tr>\n",
       "      <th>3</th>\n",
       "      <td>Rua Tobias Barreto, 195</td>\n",
       "      <td>Mooca</td>\n",
       "      <td>São Paulo</td>\n",
       "      <td>100</td>\n",
       "      <td>3</td>\n",
       "      <td>2</td>\n",
       "      <td>2</td>\n",
       "      <td>R$ 540.000</td>\n",
       "      <td>540000.0</td>\n",
       "      <td>NaN</td>\n",
       "      <td>...</td>\n",
       "      <td>3.00</td>\n",
       "      <td>1.99</td>\n",
       "      <td>2338.05</td>\n",
       "      <td>7826370.15</td>\n",
       "      <td>2447.89</td>\n",
       "      <td>7925839.76</td>\n",
       "      <td>1543.29</td>\n",
       "      <td>4646566.16</td>\n",
       "      <td>1909.04</td>\n",
       "      <td>5050712.69</td>\n",
       "    </tr>\n",
       "    <tr>\n",
       "      <th>4</th>\n",
       "      <td>Rua Graham Bell</td>\n",
       "      <td>Santo Amaro</td>\n",
       "      <td>São Paulo</td>\n",
       "      <td>440</td>\n",
       "      <td>4</td>\n",
       "      <td>4</td>\n",
       "      <td>6</td>\n",
       "      <td>R$ 1.980.000</td>\n",
       "      <td>1980000.0</td>\n",
       "      <td>NaN</td>\n",
       "      <td>...</td>\n",
       "      <td>3.51</td>\n",
       "      <td>2.31</td>\n",
       "      <td>1026.36</td>\n",
       "      <td>272168.67</td>\n",
       "      <td>1143.96</td>\n",
       "      <td>167733.64</td>\n",
       "      <td>735.67</td>\n",
       "      <td>367088.08</td>\n",
       "      <td>1086.94</td>\n",
       "      <td>159622.46</td>\n",
       "    </tr>\n",
       "  </tbody>\n",
       "</table>\n",
       "<p>5 rows × 51 columns</p>\n",
       "</div>"
      ],
      "text/plain": [
       "                              Rua              Bairro     Cidade  Metragem  \\\n",
       "0           Avenida Itacira, 255    Planalto Paulista  São Paulo      1000   \n",
       "1  Rua Aurelia Perez Alvarez, 42   Jardim dos Estados  São Paulo       496   \n",
       "2                 Rua Alba Valdez     Jardim Reimberg  São Paulo       125   \n",
       "3        Rua Tobias Barreto, 195                Mooca  São Paulo       100   \n",
       "4                 Rua Graham Bell         Santo Amaro  São Paulo       440   \n",
       "\n",
       "   Quartos  Banheiros  Vagas         Valor  Valor_anuncio  Tipo_anuncio  ...  \\\n",
       "0        4          8      6  R$ 7.000.000      7000000.0           NaN  ...   \n",
       "1        4          4      4  R$ 3.700.000      3700000.0           NaN  ...   \n",
       "2        4          3      2    R$ 380.000       380000.0           NaN  ...   \n",
       "3        3          2      2    R$ 540.000       540000.0           NaN  ...   \n",
       "4        4          4      6  R$ 1.980.000      1980000.0           NaN  ...   \n",
       "\n",
       "   V003  V004     V005         V006     V007         V008     V009  \\\n",
       "0  2.66  2.04  3158.96  22210644.93  5570.65  25770816.97  2096.19   \n",
       "1  3.13  1.96  7600.44  36778930.17  7890.53  35886906.64  4149.00   \n",
       "2  3.47  3.06   805.13    769188.78  1011.75    757433.42   518.77   \n",
       "3  3.00  1.99  2338.05   7826370.15  2447.89   7925839.76  1543.29   \n",
       "4  3.51  2.31  1026.36    272168.67  1143.96    167733.64   735.67   \n",
       "\n",
       "          V010     V011         V012  \n",
       "0  13029851.56  3930.35  17241576.74  \n",
       "1  26760682.90  6063.92  27502674.90  \n",
       "2    426672.78   858.51    414378.88  \n",
       "3   4646566.16  1909.04   5050712.69  \n",
       "4    367088.08  1086.94    159622.46  \n",
       "\n",
       "[5 rows x 51 columns]"
      ]
     },
     "execution_count": 2,
     "metadata": {},
     "output_type": "execute_result"
    }
   ],
   "source": [
    "df = pd.read_csv(\"dados_vendas_imoveis.csv\")\n",
    "df.head()"
   ]
  },
  {
   "cell_type": "markdown",
   "id": "6cf90a05",
   "metadata": {},
   "source": [
    "### Explorando a base de dados"
   ]
  },
  {
   "cell_type": "code",
   "execution_count": 3,
   "id": "7f5d43bb",
   "metadata": {},
   "outputs": [
    {
     "data": {
      "text/plain": [
       "0                       Rua\n",
       "1                    Bairro\n",
       "2                    Cidade\n",
       "3                  Metragem\n",
       "4                   Quartos\n",
       "5                 Banheiros\n",
       "6                     Vagas\n",
       "7                     Valor\n",
       "8             Valor_anuncio\n",
       "9              Tipo_anuncio\n",
       "10                 Valor_mm\n",
       "11                 Valor_m2\n",
       "12                      rua\n",
       "13                      cep\n",
       "14                 latitude\n",
       "15                longitude\n",
       "16                    Point\n",
       "17              setor_censo\n",
       "18                Cod_setor\n",
       "19    Cod_Grandes Regiï¿½es\n",
       "20       Nome_Grande_Regiao\n",
       "21                   Cod_UF\n",
       "22              Nome_da_UF \n",
       "23                 Cod_meso\n",
       "24             Nome_da_meso\n",
       "25                Cod_micro\n",
       "26            Nome_da_micro\n",
       "27                   Cod_RM\n",
       "28               Nome_da_RM\n",
       "29            Cod_municipio\n",
       "30        Nome_do_municipio\n",
       "31             Cod_distrito\n",
       "32         Nome_do_distrito\n",
       "33          Cod_subdistrito\n",
       "34      Nome_do_subdistrito\n",
       "35               Cod_bairro\n",
       "36           Nome_do_bairro\n",
       "37           Situacao_setor\n",
       "38               Tipo_setor\n",
       "39                     V001\n",
       "40                     V002\n",
       "41                     V003\n",
       "42                     V004\n",
       "43                     V005\n",
       "44                     V006\n",
       "45                     V007\n",
       "46                     V008\n",
       "47                     V009\n",
       "48                     V010\n",
       "49                     V011\n",
       "50                     V012\n",
       "dtype: object"
      ]
     },
     "execution_count": 3,
     "metadata": {},
     "output_type": "execute_result"
    }
   ],
   "source": [
    "#Lista de variáveis\n",
    "pd.Series(df.columns)"
   ]
  },
  {
   "cell_type": "code",
   "execution_count": null,
   "id": "47f91e21",
   "metadata": {},
   "outputs": [],
   "source": []
  },
  {
   "cell_type": "code",
   "execution_count": 4,
   "id": "32c37daf",
   "metadata": {},
   "outputs": [
    {
     "data": {
      "text/html": [
       "<div>\n",
       "<style scoped>\n",
       "    .dataframe tbody tr th:only-of-type {\n",
       "        vertical-align: middle;\n",
       "    }\n",
       "\n",
       "    .dataframe tbody tr th {\n",
       "        vertical-align: top;\n",
       "    }\n",
       "\n",
       "    .dataframe thead th {\n",
       "        text-align: right;\n",
       "    }\n",
       "</style>\n",
       "<table border=\"1\" class=\"dataframe\">\n",
       "  <thead>\n",
       "    <tr style=\"text-align: right;\">\n",
       "      <th></th>\n",
       "      <th>Rua</th>\n",
       "      <th>Bairro</th>\n",
       "      <th>Cidade</th>\n",
       "      <th>Metragem</th>\n",
       "      <th>Quartos</th>\n",
       "      <th>Banheiros</th>\n",
       "      <th>Vagas</th>\n",
       "      <th>Valor</th>\n",
       "      <th>Valor_anuncio</th>\n",
       "      <th>Valor_m2</th>\n",
       "    </tr>\n",
       "  </thead>\n",
       "  <tbody>\n",
       "    <tr>\n",
       "      <th>0</th>\n",
       "      <td>Avenida Itacira, 255</td>\n",
       "      <td>Planalto Paulista</td>\n",
       "      <td>São Paulo</td>\n",
       "      <td>1000</td>\n",
       "      <td>4</td>\n",
       "      <td>8</td>\n",
       "      <td>6</td>\n",
       "      <td>R$ 7.000.000</td>\n",
       "      <td>7000000.0</td>\n",
       "      <td>7000.000000</td>\n",
       "    </tr>\n",
       "    <tr>\n",
       "      <th>1</th>\n",
       "      <td>Rua Aurelia Perez Alvarez, 42</td>\n",
       "      <td>Jardim dos Estados</td>\n",
       "      <td>São Paulo</td>\n",
       "      <td>496</td>\n",
       "      <td>4</td>\n",
       "      <td>4</td>\n",
       "      <td>4</td>\n",
       "      <td>R$ 3.700.000</td>\n",
       "      <td>3700000.0</td>\n",
       "      <td>7459.677419</td>\n",
       "    </tr>\n",
       "    <tr>\n",
       "      <th>2</th>\n",
       "      <td>Rua Alba Valdez</td>\n",
       "      <td>Jardim Reimberg</td>\n",
       "      <td>São Paulo</td>\n",
       "      <td>125</td>\n",
       "      <td>4</td>\n",
       "      <td>3</td>\n",
       "      <td>2</td>\n",
       "      <td>R$ 380.000</td>\n",
       "      <td>380000.0</td>\n",
       "      <td>3040.000000</td>\n",
       "    </tr>\n",
       "    <tr>\n",
       "      <th>3</th>\n",
       "      <td>Rua Tobias Barreto, 195</td>\n",
       "      <td>Mooca</td>\n",
       "      <td>São Paulo</td>\n",
       "      <td>100</td>\n",
       "      <td>3</td>\n",
       "      <td>2</td>\n",
       "      <td>2</td>\n",
       "      <td>R$ 540.000</td>\n",
       "      <td>540000.0</td>\n",
       "      <td>5400.000000</td>\n",
       "    </tr>\n",
       "    <tr>\n",
       "      <th>4</th>\n",
       "      <td>Rua Graham Bell</td>\n",
       "      <td>Santo Amaro</td>\n",
       "      <td>São Paulo</td>\n",
       "      <td>440</td>\n",
       "      <td>4</td>\n",
       "      <td>4</td>\n",
       "      <td>6</td>\n",
       "      <td>R$ 1.980.000</td>\n",
       "      <td>1980000.0</td>\n",
       "      <td>4500.000000</td>\n",
       "    </tr>\n",
       "  </tbody>\n",
       "</table>\n",
       "</div>"
      ],
      "text/plain": [
       "                              Rua              Bairro     Cidade  Metragem  \\\n",
       "0           Avenida Itacira, 255    Planalto Paulista  São Paulo      1000   \n",
       "1  Rua Aurelia Perez Alvarez, 42   Jardim dos Estados  São Paulo       496   \n",
       "2                 Rua Alba Valdez     Jardim Reimberg  São Paulo       125   \n",
       "3        Rua Tobias Barreto, 195                Mooca  São Paulo       100   \n",
       "4                 Rua Graham Bell         Santo Amaro  São Paulo       440   \n",
       "\n",
       "   Quartos  Banheiros  Vagas         Valor  Valor_anuncio     Valor_m2  \n",
       "0        4          8      6  R$ 7.000.000      7000000.0  7000.000000  \n",
       "1        4          4      4  R$ 3.700.000      3700000.0  7459.677419  \n",
       "2        4          3      2    R$ 380.000       380000.0  3040.000000  \n",
       "3        3          2      2    R$ 540.000       540000.0  5400.000000  \n",
       "4        4          4      6  R$ 1.980.000      1980000.0  4500.000000  "
      ]
     },
     "execution_count": 4,
     "metadata": {},
     "output_type": "execute_result"
    }
   ],
   "source": [
    "#Filtrando base de dados por variáveis de interesse\n",
    "df2 = df.iloc[:, 0:12].drop(columns = ['Tipo_anuncio', 'Valor_mm'])\n",
    "df2.head()"
   ]
  },
  {
   "cell_type": "code",
   "execution_count": 5,
   "id": "fd9449f0",
   "metadata": {},
   "outputs": [
    {
     "name": "stdout",
     "output_type": "stream",
     "text": [
      "<class 'pandas.core.frame.DataFrame'>\n",
      "RangeIndex: 5605 entries, 0 to 5604\n",
      "Data columns (total 10 columns):\n",
      " #   Column         Non-Null Count  Dtype  \n",
      "---  ------         --------------  -----  \n",
      " 0   Rua            5605 non-null   object \n",
      " 1   Bairro         5597 non-null   object \n",
      " 2   Cidade         5605 non-null   object \n",
      " 3   Metragem       5605 non-null   int64  \n",
      " 4   Quartos        5605 non-null   int64  \n",
      " 5   Banheiros      5605 non-null   int64  \n",
      " 6   Vagas          5605 non-null   int64  \n",
      " 7   Valor          5605 non-null   object \n",
      " 8   Valor_anuncio  5605 non-null   float64\n",
      " 9   Valor_m2       5605 non-null   float64\n",
      "dtypes: float64(2), int64(4), object(4)\n",
      "memory usage: 438.0+ KB\n"
     ]
    }
   ],
   "source": [
    "#Data types de cada variável\n",
    "df2.info()"
   ]
  },
  {
   "cell_type": "code",
   "execution_count": 6,
   "id": "fc82b8da",
   "metadata": {},
   "outputs": [
    {
     "data": {
      "text/plain": [
       "Rua              2914\n",
       "Bairro            591\n",
       "Cidade              1\n",
       "Metragem          744\n",
       "Quartos            11\n",
       "Banheiros          13\n",
       "Vagas              21\n",
       "Valor             775\n",
       "Valor_anuncio     775\n",
       "Valor_m2         3508\n",
       "dtype: int64"
      ]
     },
     "execution_count": 6,
     "metadata": {},
     "output_type": "execute_result"
    }
   ],
   "source": [
    "#Número de valores únicos de cada variável\n",
    "df2.nunique()"
   ]
  },
  {
   "cell_type": "code",
   "execution_count": 7,
   "id": "68dc4483",
   "metadata": {},
   "outputs": [
    {
     "data": {
      "text/plain": [
       "Rua              0\n",
       "Bairro           8\n",
       "Cidade           0\n",
       "Metragem         0\n",
       "Quartos          0\n",
       "Banheiros        0\n",
       "Vagas            0\n",
       "Valor            0\n",
       "Valor_anuncio    0\n",
       "Valor_m2         0\n",
       "dtype: int64"
      ]
     },
     "execution_count": 7,
     "metadata": {},
     "output_type": "execute_result"
    }
   ],
   "source": [
    "#Verificando missings\n",
    "df2.isna().sum()"
   ]
  },
  {
   "cell_type": "markdown",
   "id": "e9858b6c",
   "metadata": {},
   "source": [
    "### Tratando missing-Descobrindo as rua sem nome de bairros"
   ]
  },
  {
   "cell_type": "code",
   "execution_count": 8,
   "id": "063c6871",
   "metadata": {
    "scrolled": true
   },
   "outputs": [
    {
     "data": {
      "text/html": [
       "<div>\n",
       "<style scoped>\n",
       "    .dataframe tbody tr th:only-of-type {\n",
       "        vertical-align: middle;\n",
       "    }\n",
       "\n",
       "    .dataframe tbody tr th {\n",
       "        vertical-align: top;\n",
       "    }\n",
       "\n",
       "    .dataframe thead th {\n",
       "        text-align: right;\n",
       "    }\n",
       "</style>\n",
       "<table border=\"1\" class=\"dataframe\">\n",
       "  <thead>\n",
       "    <tr style=\"text-align: right;\">\n",
       "      <th></th>\n",
       "      <th>Rua</th>\n",
       "      <th>Bairro</th>\n",
       "      <th>Cidade</th>\n",
       "      <th>Metragem</th>\n",
       "      <th>Quartos</th>\n",
       "      <th>Banheiros</th>\n",
       "      <th>Vagas</th>\n",
       "      <th>Valor</th>\n",
       "      <th>Valor_anuncio</th>\n",
       "      <th>Valor_m2</th>\n",
       "      <th>Logradouro</th>\n",
       "      <th>Numero</th>\n",
       "    </tr>\n",
       "  </thead>\n",
       "  <tbody>\n",
       "    <tr>\n",
       "      <th>0</th>\n",
       "      <td>Avenida Itacira, 255</td>\n",
       "      <td>Planalto Paulista</td>\n",
       "      <td>São Paulo</td>\n",
       "      <td>1000</td>\n",
       "      <td>4</td>\n",
       "      <td>8</td>\n",
       "      <td>6</td>\n",
       "      <td>R$ 7.000.000</td>\n",
       "      <td>7000000.0</td>\n",
       "      <td>7000.000000</td>\n",
       "      <td>Avenida Itacira</td>\n",
       "      <td>255</td>\n",
       "    </tr>\n",
       "    <tr>\n",
       "      <th>1</th>\n",
       "      <td>Rua Aurelia Perez Alvarez, 42</td>\n",
       "      <td>Jardim dos Estados</td>\n",
       "      <td>São Paulo</td>\n",
       "      <td>496</td>\n",
       "      <td>4</td>\n",
       "      <td>4</td>\n",
       "      <td>4</td>\n",
       "      <td>R$ 3.700.000</td>\n",
       "      <td>3700000.0</td>\n",
       "      <td>7459.677419</td>\n",
       "      <td>Rua Aurelia Perez Alvarez</td>\n",
       "      <td>42</td>\n",
       "    </tr>\n",
       "    <tr>\n",
       "      <th>2</th>\n",
       "      <td>Rua Alba Valdez</td>\n",
       "      <td>Jardim Reimberg</td>\n",
       "      <td>São Paulo</td>\n",
       "      <td>125</td>\n",
       "      <td>4</td>\n",
       "      <td>3</td>\n",
       "      <td>2</td>\n",
       "      <td>R$ 380.000</td>\n",
       "      <td>380000.0</td>\n",
       "      <td>3040.000000</td>\n",
       "      <td>Rua Alba Valdez</td>\n",
       "      <td>None</td>\n",
       "    </tr>\n",
       "    <tr>\n",
       "      <th>3</th>\n",
       "      <td>Rua Tobias Barreto, 195</td>\n",
       "      <td>Mooca</td>\n",
       "      <td>São Paulo</td>\n",
       "      <td>100</td>\n",
       "      <td>3</td>\n",
       "      <td>2</td>\n",
       "      <td>2</td>\n",
       "      <td>R$ 540.000</td>\n",
       "      <td>540000.0</td>\n",
       "      <td>5400.000000</td>\n",
       "      <td>Rua Tobias Barreto</td>\n",
       "      <td>195</td>\n",
       "    </tr>\n",
       "    <tr>\n",
       "      <th>4</th>\n",
       "      <td>Rua Graham Bell</td>\n",
       "      <td>Santo Amaro</td>\n",
       "      <td>São Paulo</td>\n",
       "      <td>440</td>\n",
       "      <td>4</td>\n",
       "      <td>4</td>\n",
       "      <td>6</td>\n",
       "      <td>R$ 1.980.000</td>\n",
       "      <td>1980000.0</td>\n",
       "      <td>4500.000000</td>\n",
       "      <td>Rua Graham Bell</td>\n",
       "      <td>None</td>\n",
       "    </tr>\n",
       "  </tbody>\n",
       "</table>\n",
       "</div>"
      ],
      "text/plain": [
       "                              Rua              Bairro     Cidade  Metragem  \\\n",
       "0           Avenida Itacira, 255    Planalto Paulista  São Paulo      1000   \n",
       "1  Rua Aurelia Perez Alvarez, 42   Jardim dos Estados  São Paulo       496   \n",
       "2                 Rua Alba Valdez     Jardim Reimberg  São Paulo       125   \n",
       "3        Rua Tobias Barreto, 195                Mooca  São Paulo       100   \n",
       "4                 Rua Graham Bell         Santo Amaro  São Paulo       440   \n",
       "\n",
       "   Quartos  Banheiros  Vagas         Valor  Valor_anuncio     Valor_m2  \\\n",
       "0        4          8      6  R$ 7.000.000      7000000.0  7000.000000   \n",
       "1        4          4      4  R$ 3.700.000      3700000.0  7459.677419   \n",
       "2        4          3      2    R$ 380.000       380000.0  3040.000000   \n",
       "3        3          2      2    R$ 540.000       540000.0  5400.000000   \n",
       "4        4          4      6  R$ 1.980.000      1980000.0  4500.000000   \n",
       "\n",
       "                  Logradouro Numero  \n",
       "0            Avenida Itacira   255   \n",
       "1  Rua Aurelia Perez Alvarez    42   \n",
       "2            Rua Alba Valdez   None  \n",
       "3         Rua Tobias Barreto   195   \n",
       "4            Rua Graham Bell   None  "
      ]
     },
     "execution_count": 8,
     "metadata": {},
     "output_type": "execute_result"
    }
   ],
   "source": [
    "#Separando nome da rua do número\n",
    "df2[['Logradouro', 'Numero']] = df2['Rua'].str.split(',', 1, expand = True)\n",
    "df2.head()"
   ]
  },
  {
   "cell_type": "code",
   "execution_count": 9,
   "id": "dd4589e1",
   "metadata": {},
   "outputs": [
    {
     "data": {
      "text/plain": [
       "['Rua Vergueiro',\n",
       " 'Rua Alvorada do Sul',\n",
       " 'Rua Professor Eduardo Monteiro',\n",
       " 'Avenida Comendador Adibo Ares',\n",
       " 'Rua Alvorada do Sul',\n",
       " 'Rua Professor Eduardo Monteiro',\n",
       " 'Rua Professor Lúcio Martins Rodrigues',\n",
       " 'Rua Pacobá']"
      ]
     },
     "execution_count": 9,
     "metadata": {},
     "output_type": "execute_result"
    }
   ],
   "source": [
    "rua_sem_bairro = list(df2.loc[df2['Bairro'].isna(), 'Logradouro'])\n",
    "rua_sem_bairro"
   ]
  },
  {
   "cell_type": "code",
   "execution_count": 10,
   "id": "e7c5354c",
   "metadata": {},
   "outputs": [
    {
     "data": {
      "text/plain": [
       "[['Rua Vergueiro', 'Vila Firmiano Pinto'],\n",
       " ['Rua Alvorada do Sul', 'Jardim Guedala'],\n",
       " ['Rua Professor Eduardo Monteiro', 'Jardim Leonor'],\n",
       " ['Avenida Comendador Adibo Ares', 'Morumbi'],\n",
       " ['Rua Alvorada do Sul', 'Jardim Guedala'],\n",
       " ['Rua Professor Eduardo Monteiro', 'Jardim Leonor'],\n",
       " ['Rua Professor Lúcio Martins Rodrigues', 'Sem denominação'],\n",
       " ['Rua Pacobá', 'Jardim Panorama']]"
      ]
     },
     "execution_count": 10,
     "metadata": {},
     "output_type": "execute_result"
    }
   ],
   "source": [
    "#Descobrindo o nome do bairro correspondente a rua\n",
    "bairro_correspondente = []\n",
    "for rua in rua_sem_bairro:\n",
    "    bairro = df2.loc[df2['Rua'] == rua, 'Bairro'].unique()\n",
    "    if len(bairro) > 0:\n",
    "        bairro_correspondente.append([rua, bairro[0]])\n",
    "    else:\n",
    "        bairro_correspondente.append([rua, 'Sem denominação'])\n",
    "#Verificando\n",
    "bairro_correspondente"
   ]
  },
  {
   "cell_type": "code",
   "execution_count": 11,
   "id": "9eb320ed",
   "metadata": {},
   "outputs": [
    {
     "data": {
      "text/plain": [
       "Rua                 0\n",
       "Bairro              0\n",
       "Cidade              0\n",
       "Metragem            0\n",
       "Quartos             0\n",
       "Banheiros           0\n",
       "Vagas               0\n",
       "Valor               0\n",
       "Valor_anuncio       0\n",
       "Valor_m2            0\n",
       "Logradouro          0\n",
       "Numero           4427\n",
       "dtype: int64"
      ]
     },
     "execution_count": 11,
     "metadata": {},
     "output_type": "execute_result"
    }
   ],
   "source": [
    "#Fill missings\n",
    "for bairro in bairro_correspondente[1]:\n",
    "    df2.loc[df2['Bairro'].isna(), 'Bairro'] = bairro\n",
    "df2.isna().sum()"
   ]
  },
  {
   "cell_type": "markdown",
   "id": "564e984d",
   "metadata": {},
   "source": [
    "### Média da metragem de cada um dos bairros ordenada pelo número de anúncios"
   ]
  },
  {
   "cell_type": "code",
   "execution_count": 12,
   "id": "0e680f26",
   "metadata": {
    "scrolled": false
   },
   "outputs": [
    {
     "data": {
      "text/html": [
       "<div>\n",
       "<style scoped>\n",
       "    .dataframe tbody tr th:only-of-type {\n",
       "        vertical-align: middle;\n",
       "    }\n",
       "\n",
       "    .dataframe tbody tr th {\n",
       "        vertical-align: top;\n",
       "    }\n",
       "\n",
       "    .dataframe thead th {\n",
       "        text-align: right;\n",
       "    }\n",
       "</style>\n",
       "<table border=\"1\" class=\"dataframe\">\n",
       "  <thead>\n",
       "    <tr style=\"text-align: right;\">\n",
       "      <th></th>\n",
       "      <th>Nº de anúncios</th>\n",
       "      <th>Metragem média</th>\n",
       "    </tr>\n",
       "    <tr>\n",
       "      <th>Bairro</th>\n",
       "      <th></th>\n",
       "      <th></th>\n",
       "    </tr>\n",
       "  </thead>\n",
       "  <tbody>\n",
       "    <tr>\n",
       "      <th>Alto de Pinheiros</th>\n",
       "      <td>206</td>\n",
       "      <td>431.15</td>\n",
       "    </tr>\n",
       "    <tr>\n",
       "      <th>Jardim Guedala</th>\n",
       "      <td>176</td>\n",
       "      <td>635.11</td>\n",
       "    </tr>\n",
       "    <tr>\n",
       "      <th>Brooklin Paulista</th>\n",
       "      <td>143</td>\n",
       "      <td>302.43</td>\n",
       "    </tr>\n",
       "    <tr>\n",
       "      <th>Vila Mariana</th>\n",
       "      <td>142</td>\n",
       "      <td>234.42</td>\n",
       "    </tr>\n",
       "    <tr>\n",
       "      <th>Planalto Paulista</th>\n",
       "      <td>141</td>\n",
       "      <td>324.31</td>\n",
       "    </tr>\n",
       "    <tr>\n",
       "      <th>Pacaembu</th>\n",
       "      <td>138</td>\n",
       "      <td>500.11</td>\n",
       "    </tr>\n",
       "    <tr>\n",
       "      <th>Jardim Paulista</th>\n",
       "      <td>131</td>\n",
       "      <td>452.73</td>\n",
       "    </tr>\n",
       "    <tr>\n",
       "      <th>Vila Madalena</th>\n",
       "      <td>122</td>\n",
       "      <td>315.63</td>\n",
       "    </tr>\n",
       "    <tr>\n",
       "      <th>Campo Belo</th>\n",
       "      <td>98</td>\n",
       "      <td>280.32</td>\n",
       "    </tr>\n",
       "    <tr>\n",
       "      <th>Sumaré</th>\n",
       "      <td>97</td>\n",
       "      <td>340.43</td>\n",
       "    </tr>\n",
       "    <tr>\n",
       "      <th>Jardim Europa</th>\n",
       "      <td>95</td>\n",
       "      <td>558.18</td>\n",
       "    </tr>\n",
       "    <tr>\n",
       "      <th>Cidade Jardim</th>\n",
       "      <td>93</td>\n",
       "      <td>688.40</td>\n",
       "    </tr>\n",
       "    <tr>\n",
       "      <th>Jardim da Glória</th>\n",
       "      <td>81</td>\n",
       "      <td>237.10</td>\n",
       "    </tr>\n",
       "    <tr>\n",
       "      <th>Indianópolis</th>\n",
       "      <td>79</td>\n",
       "      <td>308.27</td>\n",
       "    </tr>\n",
       "    <tr>\n",
       "      <th>Jardim Paulistano</th>\n",
       "      <td>76</td>\n",
       "      <td>344.79</td>\n",
       "    </tr>\n",
       "  </tbody>\n",
       "</table>\n",
       "</div>"
      ],
      "text/plain": [
       "                   Nº de anúncios  Metragem média\n",
       "Bairro                                           \n",
       "Alto de Pinheiros             206          431.15\n",
       "Jardim Guedala                176          635.11\n",
       "Brooklin Paulista             143          302.43\n",
       "Vila Mariana                  142          234.42\n",
       "Planalto Paulista             141          324.31\n",
       "Pacaembu                      138          500.11\n",
       "Jardim Paulista               131          452.73\n",
       "Vila Madalena                 122          315.63\n",
       "Campo Belo                     98          280.32\n",
       "Sumaré                         97          340.43\n",
       "Jardim Europa                  95          558.18\n",
       "Cidade Jardim                  93          688.40\n",
       "Jardim da Glória               81          237.10\n",
       "Indianópolis                   79          308.27\n",
       "Jardim Paulistano              76          344.79"
      ]
     },
     "execution_count": 12,
     "metadata": {},
     "output_type": "execute_result"
    }
   ],
   "source": [
    "top15_metragem = (df2\n",
    "                 .groupby('Bairro')\n",
    "                 .agg({'Bairro': 'count', 'Metragem':'mean'})\n",
    "                 .round({'Metragem': 2})\n",
    "                 .rename(columns = {'Bairro': 'Nº de anúncios', 'Metragem': 'Metragem média'})\n",
    "                 .sort_values(by = 'Nº de anúncios', ascending = False)\n",
    "                 .head(15)\n",
    "                )\n",
    "top15_metragem"
   ]
  },
  {
   "cell_type": "code",
   "execution_count": 13,
   "id": "b5241aeb",
   "metadata": {},
   "outputs": [],
   "source": [
    "def barhplot(y:str, data: pd.DataFrame, palette: str, title: str, figsize = (8, 10)):\n",
    "    #Criando gradiente de cores para as barras\n",
    "    cmap = plt.cm.get_cmap(palette)\n",
    "    bar_colors = [mpc.to_hex(cmap(k)) for k in np.linspace(1, 0.4, len(data))]\n",
    "    #Plot do gráfico de barras\n",
    "    plt.figure(figsize = figsize)\n",
    "    g = plt.barh(data.index, data[y], color = bar_colors)\n",
    "    plt.gca().invert_yaxis()\n",
    "    #Adicionando rótulos para os dados\n",
    "    for bar in g.patches:\n",
    "        value = bar.get_width()\n",
    "        plt.text(s = f'{value}',\n",
    "                 x = bar.get_x() + bar.get_width(),\n",
    "                 y = bar.get_y() + bar.get_height()/2 ,\n",
    "                 ha = 'right',\n",
    "                 va = 'center',\n",
    "                 fontweight = 'bold',\n",
    "                 color = 'white')\n",
    "    #Titulo\n",
    "    plt.gca().set_title(f'{title}', fontweight = 'bold');\n",
    "    #Removendo eixos\n",
    "    for spine in ['top', 'bottom', 'left', 'right']:\n",
    "        plt.gca().spines[spine].set_visible(False)\n",
    "    #Removendo xticks\n",
    "    plt.tick_params(axis = 'x', bottom = False, labelbottom = False)"
   ]
  },
  {
   "cell_type": "code",
   "execution_count": 14,
   "id": "c2d2d642",
   "metadata": {},
   "outputs": [
    {
     "data": {
      "image/png": "[encoded data removed]",
      "text/plain": [
       "<Figure size 576x720 with 1 Axes>"
      ]
     },
     "metadata": {
      "needs_background": "light"
     },
     "output_type": "display_data"
    }
   ],
   "source": [
    "barhplot(y = 'Nº de anúncios', data = top15_metragem, palette = 'Blues', title = 'Nº de anúncios por bairro')"
   ]
  },
  {
   "cell_type": "code",
   "execution_count": 15,
   "id": "968d4a7d",
   "metadata": {},
   "outputs": [
    {
     "data": {
      "image/png": "[encoded data removed]",
      "text/plain": [
       "<Figure size 576x720 with 1 Axes>"
      ]
     },
     "metadata": {
      "needs_background": "light"
     },
     "output_type": "display_data"
    }
   ],
   "source": [
    "barhplot(y = 'Metragem média', data = top15_metragem, palette = 'RdPu', title = 'Metragem média por bairro')"
   ]
  },
  {
   "cell_type": "markdown",
   "id": "93d10feb",
   "metadata": {},
   "source": [
    "### Bairros com valor de anúncio e metro quadrado mais caros "
   ]
  },
  {
   "cell_type": "code",
   "execution_count": 16,
   "id": "f50c8e6f",
   "metadata": {},
   "outputs": [
    {
     "data": {
      "text/html": [
       "<div>\n",
       "<style scoped>\n",
       "    .dataframe tbody tr th:only-of-type {\n",
       "        vertical-align: middle;\n",
       "    }\n",
       "\n",
       "    .dataframe tbody tr th {\n",
       "        vertical-align: top;\n",
       "    }\n",
       "\n",
       "    .dataframe thead th {\n",
       "        text-align: right;\n",
       "    }\n",
       "</style>\n",
       "<table border=\"1\" class=\"dataframe\">\n",
       "  <thead>\n",
       "    <tr style=\"text-align: right;\">\n",
       "      <th></th>\n",
       "      <th>Valor_anuncio</th>\n",
       "      <th>Valor_m2</th>\n",
       "    </tr>\n",
       "    <tr>\n",
       "      <th>Bairro</th>\n",
       "      <th></th>\n",
       "      <th></th>\n",
       "    </tr>\n",
       "  </thead>\n",
       "  <tbody>\n",
       "    <tr>\n",
       "      <th>Jardim América</th>\n",
       "      <td>18324877.55</td>\n",
       "      <td>25102.10</td>\n",
       "    </tr>\n",
       "    <tr>\n",
       "      <th>Chácara Flora</th>\n",
       "      <td>13500000.00</td>\n",
       "      <td>10754.61</td>\n",
       "    </tr>\n",
       "    <tr>\n",
       "      <th>Retiro Morumbi</th>\n",
       "      <td>11336000.00</td>\n",
       "      <td>10309.86</td>\n",
       "    </tr>\n",
       "    <tr>\n",
       "      <th>Jardim Europa</th>\n",
       "      <td>10465841.05</td>\n",
       "      <td>18199.40</td>\n",
       "    </tr>\n",
       "    <tr>\n",
       "      <th>Jardim Luzitânia</th>\n",
       "      <td>8935961.54</td>\n",
       "      <td>16796.71</td>\n",
       "    </tr>\n",
       "    <tr>\n",
       "      <th>Jardins</th>\n",
       "      <td>8157142.86</td>\n",
       "      <td>11904.14</td>\n",
       "    </tr>\n",
       "    <tr>\n",
       "      <th>Morro dos Ingleses</th>\n",
       "      <td>8100000.00</td>\n",
       "      <td>11749.03</td>\n",
       "    </tr>\n",
       "    <tr>\n",
       "      <th>Jardim Paulista</th>\n",
       "      <td>6832053.44</td>\n",
       "      <td>14974.20</td>\n",
       "    </tr>\n",
       "    <tr>\n",
       "      <th>Cidade Jardim</th>\n",
       "      <td>6127966.67</td>\n",
       "      <td>8629.16</td>\n",
       "    </tr>\n",
       "    <tr>\n",
       "      <th>Vila Tramontano</th>\n",
       "      <td>5941428.57</td>\n",
       "      <td>9095.77</td>\n",
       "    </tr>\n",
       "  </tbody>\n",
       "</table>\n",
       "</div>"
      ],
      "text/plain": [
       "                    Valor_anuncio  Valor_m2\n",
       "Bairro                                     \n",
       "Jardim América        18324877.55  25102.10\n",
       "Chácara Flora         13500000.00  10754.61\n",
       "Retiro Morumbi        11336000.00  10309.86\n",
       "Jardim Europa         10465841.05  18199.40\n",
       "Jardim Luzitânia       8935961.54  16796.71\n",
       "Jardins                8157142.86  11904.14\n",
       "Morro dos Ingleses     8100000.00  11749.03\n",
       "Jardim Paulista        6832053.44  14974.20\n",
       "Cidade Jardim          6127966.67   8629.16\n",
       "Vila Tramontano        5941428.57   9095.77"
      ]
     },
     "execution_count": 16,
     "metadata": {},
     "output_type": "execute_result"
    }
   ],
   "source": [
    "bairros_mais_caros = (df2[['Bairro', 'Valor_anuncio', 'Valor_m2']]\n",
    "                     .groupby('Bairro')\n",
    "                     .agg('mean')\n",
    "                     .round(2)\n",
    "                     .sort_values(by = 'Valor_anuncio', ascending = False)\n",
    "                     .head(10)\n",
    "                     )\n",
    "bairros_mais_caros"
   ]
  },
  {
   "cell_type": "code",
   "execution_count": 17,
   "id": "8984d3cb",
   "metadata": {},
   "outputs": [
    {
     "data": {
      "image/png": "[encoded data removed]",
      "text/plain": [
       "<Figure size 576x720 with 1 Axes>"
      ]
     },
     "metadata": {
      "needs_background": "light"
     },
     "output_type": "display_data"
    }
   ],
   "source": [
    "barhplot(y = 'Valor_anuncio', data = bairros_mais_caros, palette = 'Purples', title = 'Valor de anúncio médio por bairro')"
   ]
  },
  {
   "cell_type": "code",
   "execution_count": 18,
   "id": "40fe0362",
   "metadata": {},
   "outputs": [
    {
     "data": {
      "image/png": "[encoded data removed]",
      "text/plain": [
       "<Figure size 576x720 with 1 Axes>"
      ]
     },
     "metadata": {
      "needs_background": "light"
     },
     "output_type": "display_data"
    }
   ],
   "source": [
    "#winter, pink, ocean, jet\n",
    "barhplot(y = 'Valor_m2', data = bairros_mais_caros, palette = 'Reds', title = 'Valor médio do metro quadrado por bairro')"
   ]
  },
  {
   "cell_type": "code",
   "execution_count": null,
   "id": "3bd3dc26",
   "metadata": {},
   "outputs": [],
   "source": []
  }
 ],
 "metadata": {
  "kernelspec": {
   "display_name": "Python 3",
   "language": "python",
   "name": "python3"
  },
  "language_info": {
   "codemirror_mode": {
    "name": "ipython",
    "version": 3
   },
   "file_extension": ".py",
   "mimetype": "text/x-python",
   "name": "python",
   "nbconvert_exporter": "python",
   "pygments_lexer": "ipython3",
   "version": "3.8.8"
  }
 },
 "nbformat": 4,
 "nbformat_minor": 5
}
